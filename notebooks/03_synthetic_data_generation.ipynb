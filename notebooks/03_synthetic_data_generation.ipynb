{
 "cells": [
  {
   "cell_type": "markdown",
   "id": "d2eed0de",
   "metadata": {},
   "source": [
    "# 3. High-Fidelity Synthetic Data Generation 🧪\n",
    "\n",
    "This notebook demonstrates how to use the pre-trained CPT Foundation Model as a **CPT simulator** to generate entirely new, realistic-looking CPT profiles.\n",
    "\n",
    "## The Process: Autoregressive Generation\n",
    "\n",
    "The core technique used here is **autoregressive generation**. It works similarly to how a large language model writes an essay sentence by sentence:\n",
    "\n",
    "1.  **Provide a Prompt**: We give the model a short, real sequence of CPT data points (e.g., the first 20 measurements) to set the initial geological context.\n",
    "2.  **Predict the Next Step**: The model takes this prompt and predicts the very next data point in the sequence.\n",
    "3.  **Append and Repeat**: The newly predicted data point is appended to the end of the sequence. This new, slightly longer sequence becomes the input for the next prediction step.\n",
    "4.  **Generate Full Profile**: This process is repeated until a CPT profile of the desired length is generated.\n",
    "\n",
    "### Applications\n",
    "- **Data Augmentation**: Create vast amounts of synthetic data to train other specialized machine learning models (e.g., for soil classification or liquefaction analysis), improving their robustness.\n",
    "- **Scenario Modeling**: Generate profiles for specific \"what-if\" scenarios to test engineering designs under various hypothetical ground conditions."
   ]
  },
  {
   "cell_type": "markdown",
   "id": "0a99becf",
   "metadata": {},
   "source": [
    "## 1. Setup\n",
    "\n",
    "First, we'll import the necessary libraries and load our trained model, configuration file, and the data scaler used during training."
   ]
  },
  {
   "cell_type": "code",
   "execution_count": 20,
   "id": "733708d4",
   "metadata": {},
   "outputs": [],
   "source": [
    "import os\n",
    "import yaml\n",
    "import torch\n",
    "import numpy as np\n",
    "import joblib\n",
    "from tqdm import tqdm\n",
    "import plotly.graph_objects as go\n",
    "from plotly.subplots import make_subplots\n",
    "\n",
    "# Change working directory to project root\n",
    "if os.path.basename(os.getcwd()) == 'notebooks':\n",
    "    os.chdir('..')\n",
    "\n",
    "# Add src to path\n",
    "import sys\n",
    "sys.path.append(os.path.abspath('src'))\n",
    "\n",
    "from data_utils import CPTDataModule\n",
    "from model import CPTFoundationModel"
   ]
  },
  {
   "cell_type": "markdown",
   "id": "e0b60b77",
   "metadata": {},
   "source": [
    "### Load Configuration, Model, and Scaler"
   ]
  },
  {
   "cell_type": "code",
   "execution_count": 21,
   "id": "988a87dd",
   "metadata": {},
   "outputs": [
    {
     "name": "stdout",
     "output_type": "stream",
     "text": [
      "Using device: cuda\n",
      "Model loaded successfully from 'models/foundation_model_PG.pth'\n",
      "Scaler loaded from 'data/processed/PG/scaler.joblib'\n"
     ]
    }
   ],
   "source": [
    "CONFIG_PATH = 'configs/PG_dataset.yaml'\n",
    "\n",
    "# Load YAML config\n",
    "with open(CONFIG_PATH, 'r') as f:\n",
    "    config = yaml.safe_load(f)\n",
    "\n",
    "# Setup device\n",
    "device = torch.device(\"cuda\" if torch.cuda.is_available() else \"cpu\")\n",
    "print(f\"Using device: {device}\")\n",
    "\n",
    "# Initialize the model\n",
    "model_params = config['model_params']\n",
    "model = CPTFoundationModel(\n",
    "    num_features=model_params['num_features'],\n",
    "    model_dim=model_params['model_dim'],\n",
    "    num_heads=model_params['num_heads'],\n",
    "    num_layers=model_params['num_layers']\n",
    ").to(device)\n",
    "\n",
    "# Load the saved model checkpoint\n",
    "model_path = config['data_paths']['model_save_path']\n",
    "if os.path.exists(model_path):\n",
    "    checkpoint = torch.load(model_path, map_location=device)\n",
    "    model.load_state_dict(checkpoint['model_state_dict'])\n",
    "    model.eval() # Set to evaluation mode\n",
    "    print(f\"Model loaded successfully from '{model_path}'\")\n",
    "else:\n",
    "    print(f\"ERROR: Model not found at '{model_path}'. Please train the model first.\")\n",
    "    model = None\n",
    "\n",
    "# Load the scaler\n",
    "scaler_path = config['data_paths'].get('scaler_path')\n",
    "if scaler_path and os.path.exists(scaler_path):\n",
    "    scaler = joblib.load(scaler_path)\n",
    "    print(f\"Scaler loaded from '{scaler_path}'\")\n",
    "else:\n",
    "    print(\"ERROR: Scaler not found. Please run the data preprocessing script.\")\n",
    "    scaler = None"
   ]
  },
  {
   "cell_type": "markdown",
   "id": "1bfc502f",
   "metadata": {},
   "source": [
    "## 2. Autoregressive Generation Function\n",
    "\n",
    "This is the core function that performs the step-by-step generation."
   ]
  },
  {
   "cell_type": "code",
   "execution_count": 22,
   "id": "88ef259b",
   "metadata": {},
   "outputs": [],
   "source": [
    "def generate_synthetic_cpt(model, scaler, prompt, max_len, device, temperature=0.0):\n",
    "    \"\"\"\n",
    "    Generates a synthetic CPT profile autoregressively from a prompt.\n",
    "    \n",
    "    Args:\n",
    "        model (CPTFoundationModel): The trained transformer model.\n",
    "        scaler (StandardScaler): The scaler used for the training data.\n",
    "        prompt (np.array): A short sequence of initial CPT data (shape [prompt_len, num_features]).\n",
    "        max_len (int): The total desired length of the generated CPT.\n",
    "        device (torch.device): The device to run generation on.\n",
    "        temperature (float): Controls randomness in generation. 0 for deterministic, >0 for stochastic.\n",
    "        \n",
    "    Returns:\n",
    "        np.array: The generated CPT data, inverse-transformed to its original scale.\n",
    "    \"\"\"\n",
    "    if not model or not scaler:\n",
    "        print(\"Model or scaler not available. Aborting generation.\")\n",
    "        return None\n",
    "    \n",
    "    num_features = model.input_projection.in_features\n",
    "    \n",
    "    # Scale the prompt and convert to a tensor with a batch dimension\n",
    "    prompt_scaled = scaler.transform(prompt[:, :num_features])\n",
    "    generated_sequence = torch.tensor(prompt_scaled, dtype=torch.float32).unsqueeze(0).to(device)\n",
    "    \n",
    "    model.eval() # Ensure model is in evaluation mode\n",
    "    with torch.no_grad():\n",
    "        pbar = tqdm(range(len(prompt), max_len), desc=\"Generating Synthetic CPT\")\n",
    "        for _ in pbar:\n",
    "            # Prepare the current sequence and attention mask\n",
    "            input_sequence = generated_sequence\n",
    "            attention_mask = torch.ones(input_sequence.shape[:2], device=device)\n",
    "            \n",
    "            # Get contextual embeddings from the model\n",
    "            contextual_embeddings = model(input_sequence, attention_mask)\n",
    "            \n",
    "            # IMPORTANT: Select the embedding of the VERY LAST token\n",
    "            last_token_embedding = contextual_embeddings[:, -1:, :] # Shape: [1, 1, model_dim]\n",
    "            \n",
    "            # Project this single embedding to predict the next data point\n",
    "            next_token_prediction = model.output_projection(last_token_embedding) # Shape: [1, 1, num_features]\n",
    "            \n",
    "            # Apply temperature for stochastic sampling if temperature > 0\n",
    "            if temperature > 0:\n",
    "                # Add Gaussian noise scaled by temperature\n",
    "                noise = torch.randn_like(next_token_prediction) * temperature\n",
    "                next_token_prediction = next_token_prediction + noise\n",
    "            \n",
    "            # Append the prediction to our sequence\n",
    "            generated_sequence = torch.cat([generated_sequence, next_token_prediction], dim=1)\n",
    "            \n",
    "    # Move sequence to CPU, remove batch dimension, and inverse transform\n",
    "    final_sequence_scaled = generated_sequence.squeeze(0).cpu().numpy()\n",
    "    final_sequence_unscaled = scaler.inverse_transform(final_sequence_scaled)\n",
    "    \n",
    "    return final_sequence_unscaled"
   ]
  },
  {
   "cell_type": "markdown",
   "id": "0d22d3d5",
   "metadata": {},
   "source": [
    "## 3. Generate and Visualize\n",
    "\n",
    "Now, let's put it all together. We'll load the test data to get a real CPT, use its beginning as a prompt, and generate a new profile."
   ]
  },
  {
   "cell_type": "code",
   "execution_count": 23,
   "id": "49851c6c",
   "metadata": {},
   "outputs": [
    {
     "name": "stdout",
     "output_type": "stream",
     "text": [
      "Loading test data to find a prompt...\n",
      "Found existing processed data in 'data/processed/PG'. Delete to reprocess.\n",
      "Processing 1071 files with max_len=512 and overlap=128...\n"
     ]
    },
    {
     "name": "stderr",
     "output_type": "stream",
     "text": [
      "Loading and Chunking Data: 100%|██████████| 1071/1071 [00:23<00:00, 44.98it/s]\n"
     ]
    },
    {
     "name": "stdout",
     "output_type": "stream",
     "text": [
      "Processing 133 files with max_len=512 and overlap=128...\n"
     ]
    },
    {
     "name": "stderr",
     "output_type": "stream",
     "text": [
      "Loading and Chunking Data: 100%|██████████| 133/133 [00:02<00:00, 47.12it/s]\n"
     ]
    },
    {
     "name": "stdout",
     "output_type": "stream",
     "text": [
      "Processing 135 files with max_len=512 and overlap=128...\n"
     ]
    },
    {
     "name": "stderr",
     "output_type": "stream",
     "text": [
      "Loading and Chunking Data: 100%|██████████| 135/135 [00:02<00:00, 46.84it/s]\n"
     ]
    },
    {
     "name": "stdout",
     "output_type": "stream",
     "text": [
      "Train dataset size: 5338\n",
      "Validation dataset size: 681\n",
      "Test dataset size: 680\n"
     ]
    },
    {
     "name": "stderr",
     "output_type": "stream",
     "text": [
      "Generating Synthetic CPT: 100%|██████████| 400/400 [00:02<00:00, 145.04it/s]\n"
     ]
    }
   ],
   "source": [
    "# --- Get a real CPT to use for a prompt ---\n",
    "print(\"Loading test data to find a prompt...\")\n",
    "data_module = CPTDataModule(config)\n",
    "data_module.setup()\n",
    "test_dataset = data_module.test_dataset\n",
    "\n",
    "# Get the first CPT chunk from the test set\n",
    "# The dataset returns (data, mask, cpt_id), so we unpack all three\n",
    "original_cpt_scaled = test_dataset[0] \n",
    "original_cpt_unscaled = scaler.inverse_transform(original_cpt_scaled.numpy())\n",
    "\n",
    "# --- Set Generation Parameters ---\n",
    "PROMPT_LENGTH = 100 # Use the first 20 data points as the context\n",
    "GENERATION_LENGTH = 500 # Generate a CPT with 500 data points\n",
    "TEMPERATURE = 0 # Set to 0 for deterministic output, >0 for random variations\n",
    "\n",
    "# Create the prompt from the original CPT\n",
    "cpt_prompt = original_cpt_unscaled[:PROMPT_LENGTH]\n",
    "\n",
    "# --- Run Generation ---\n",
    "synthetic_cpt = generate_synthetic_cpt(\n",
    "    model=model,\n",
    "    scaler=scaler,\n",
    "    prompt=cpt_prompt,\n",
    "    max_len=GENERATION_LENGTH,\n",
    "    device=device,\n",
    "    temperature=TEMPERATURE\n",
    ")"
   ]
  },
  {
   "cell_type": "markdown",
   "id": "f6612d12",
   "metadata": {},
   "source": [
    "### Visualize the Result\n",
    "\n",
    "Let's plot our generated CPT against the original one to see how it compares. The generated profile should look statistically similar and geologically plausible, but not be an exact copy."
   ]
  },
  {
   "cell_type": "code",
   "execution_count": 24,
   "id": "ae875507",
   "metadata": {},
   "outputs": [
    {
     "data": {
      "application/vnd.plotly.v1+json": {
       "config": {
        "plotlyServerURL": "https://plot.ly"
       },
       "data": [
        {
         "line": {
          "color": "blue",
          "width": 2
         },
         "mode": "lines",
         "name": "Original",
         "type": "scatter",
         "x": {
          "bdata": "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",
          "dtype": "f4"
         },
         "xaxis": "x",
         "y": {
          "bdata": "AAABAAIAAwAEAAUABgAHAAgACQAKAAsADAANAA4ADwAQABEAEgATABQAFQAWABcAGAAZABoAGwAcAB0AHgAfACAAIQAiACMAJAAlACYAJwAoACkAKgArACwALQAuAC8AMAAxADIAMwA0ADUANgA3ADgAOQA6ADsAPAA9AD4APwBAAEEAQgBDAEQARQBGAEcASABJAEoASwBMAE0ATgBPAFAAUQBSAFMAVABVAFYAVwBYAFkAWgBbAFwAXQBeAF8AYABhAGIAYwBkAGUAZgBnAGgAaQBqAGsAbABtAG4AbwBwAHEAcgBzAHQAdQB2AHcAeAB5AHoAewB8AH0AfgB/AIAAgQCCAIMAhACFAIYAhwCIAIkAigCLAIwAjQCOAI8AkACRAJIAkwCUAJUAlgCXAJgAmQCaAJsAnACdAJ4AnwCgAKEAogCjAKQApQCmAKcAqACpAKoAqwCsAK0ArgCvALAAsQCyALMAtAC1ALYAtwC4ALkAugC7ALwAvQC+AL8AwADBAMIAwwDEAMUAxgDHAMgAyQDKAMsAzADNAM4AzwDQANEA0gDTANQA1QDWANcA2ADZANoA2wDcAN0A3gDfAOAA4QDiAOMA5ADlAOYA5wDoAOkA6gDrAOwA7QDuAO8A8ADxAPIA8wD0APUA9gD3APgA+QD6APsA/AD9AP4A/wAAAQEBAgEDAQQBBQEGAQcBCAEJAQoBCwEMAQ0BDgEPARABEQESARMBFAEVARYBFwEYARkBGgEbARwBHQEeAR8BIAEhASIBIwEkASUBJgEnASgBKQEqASsBLAEtAS4BLwEwATEBMgEzATQBNQE2ATcBOAE5AToBOwE8AT0BPgE/AUABQQFCAUMBRAFFAUYBRwFIAUkBSgFLAUwBTQFOAU8BUAFRAVIBUwFUAVUBVgFXAVgBWQFaAVsBXAFdAV4BXwFgAWEBYgFjAWQBZQFmAWcBaAFpAWoBawFsAW0BbgFvAXABcQFyAXMBdAF1AXYBdwF4AXkBegF7AXwBfQF+AX8BgAGBAYIBgwGEAYUBhgGHAYgBiQGKAYsBjAGNAY4BjwGQAZEBkgGTAZQBlQGWAZcBmAGZAZoBmwGcAZ0BngGfAaABoQGiAaMBpAGlAaYBpwGoAakBqgGrAawBrQGuAa8BsAGxAbIBswG0AbUBtgG3AbgBuQG6AbsBvAG9Ab4BvwHAAcEBwgHDAcQBxQHGAccByAHJAcoBywHMAc0BzgHPAdAB0QHSAdMB1AHVAdYB1wHYAdkB2gHbAdwB3QHeAd8B4AHhAeIB4wHkAeUB5gHnAegB6QHqAesB7AHtAe4B7wHwAfEB8gHzAfQB9QH2AfcB+AH5AfoB+wH8Af0B/gH/AQ==",
          "dtype": "i2"
         },
         "yaxis": "y"
        },
        {
         "line": {
          "color": "blue",
          "width": 2
         },
         "mode": "lines",
         "name": "Original",
         "type": "scatter",
         "x": {
          "bdata": "AACLQhA8MzIQPDMyAc5MPgCZmT7AmRk/YGamPwAAIEAwMzNAMDOzQMzMLEEAACBBAACUQZqZwUGamdFBAADwQc7M/EEAAARCzcwWQmdmHkJnZh5CmpkfQmZmIEKamStCmpkrQmdmLkLNzDBCmpk5QgAAOkIAADpCAAA6QpqZOULNzDhCZmYwQjQzLUJnZixCAAAsQpqZK0KamStCzcwoQpqZJUJnZiJCNDMhQpqZIUJnZiJCmpkjQmdmIkIAACxCZmYwQs3MMkIzMzVCMzM1QmZmQkKamU9CZmZYQs3MXEKamWVCmplxQpqZe0KamXtCZmZ8Qs3MfELNzHxCzcx8Qs3MfELNzHxCZmZ8QmZmfEIzM3NCmplpQmdmXELNzFRCmplTQjMzTUIAAExCZ2ZMQmdmTEJnZlBCZ2ZQQjMzUUIAAFJCmplRQgAAVELNzFZCMzNXQgAAWELNzFhCzcxYQpqZYUKamWtCAAByQs3MeEIzM39CMzOFQs3MgUKamYVCZmaHQpqZikKamYtCzcyLQgAAjUIAAI1CzcyMQs3MjEIzM4xCMzOMQjMzjEIzM4xCMzOMQmZmjUKamZBCZmaTQs3MmEIzM51CmpmcQjMznEJmZplCzcyWQjMzlkLNzJVCAACWQgAAlkKamZZCzcyXQmZmm0KamZ5CMzOkQpqZqUIzM7FCZ2ayQjMztkJnZrZCZ2a2QjMzuUIAALxCMzPCQs3MxEJnZsVCAADGQpqZx0JnZtFCNDPUQgAA2UJnZt1CmpnfQpqZ4UIAAOJCZ2biQs3M8kIzM/tCZmYBQzSzBEPNTAhDzcwLQ83MEEM0MxFDmpkRQ81MEUMAgBJDzcwTQ2fmFEMzsxVDM7MVQ5qZFUPNTBVDZmYUQzMzEkM0sxFDNLMRQwAAEEOamQ5DM7MJQ83MB0MAgARDAIABQwAA+EJnZvJCAADuQpqZ6ELNzOdCzcznQs3M50IAAOhCMzPpQs3M6UI0M+pCMzP0Qmdm+0I0MwFDM7MDQ2dmA0OaGQNDZmYBQ83M+0IAAPJCZ2buQs3M6kJnZutCZmbjQmdm20IzM9JCmpnNQmdmy0KamcxCmpnNQs3MzkLNzM9CmpnUQjMz2UKamdtCMzPcQpqZ3ELNzNxCAADdQgAA3ULNzNxCmpncQpqZ3EKamdxCmpncQpqZ3kIzM99CzczcQmdm2kKamdVCmpnNQs3MyUIAAMlCzczIQs3MyEKamchCmpnIQmZmxkI0M8RCAAC8Qs3Mp0IzM6JCmpmgQgAAnkLNzJtCmpmZQgAAmEJmZpFCZmZSQgAATkLNzExCAABMQpqZS0LNzEpCmpk7QgAANEKamTNCmpkzQpqZM0KamTNCzcw0QjMzNUKamTVCAAA2Qs3MNkIAADpCMzM7QjQzPUIAAERCAABGQpqZS0IzM1FCZ2ZUQgAAWkJnZl5CmplhQgAAZkIzM2lCMzNzQgAAdEJmZnRCZmZ0QjMzd0IzM3dCmpl3QgAAeELNzHhCzcx4Qs3MeELNzHhCzcx4QmZmdEIAAHRCZmZ0QjMzdUJmZnZCzcx4QpqZeUJmZnhCMzN3QjMzdULNzHRCZmZ0QmZmdEIzM3NCzcxwQs3McELNzHBCMzNxQpqZcUJnZnBCMzNvQmZmbEKamWtCzcxqQs3MakJmZmpCzcxqQs3MakKamWtCAABwQjMzc0KamXVCAAB2QjMzdUJmZnRCzcxsQmZmbkIAAHBCzcx0QgAAekLNzHxCzcx8QmZmfEJmZnxCzcx6QmZmekKamXlCMzN5Qs3MeEKamXdCMzN3QjMzd0IAAHhCZmZ4QjMzeUIzM3tCMzN9QpqZgUKamYxCMzOYQpqZokLNzLpCmpnDQmdmzUJnZtdCzczhQmZm+UKaGQFDZ2YCQ5oZA0MzMwNDzcwCQwCAAkPNzPZCzczrQs3M4UJnZtdCmpnTQjQzykIAAMJCMzO5QpqZsEIAAKpCAACnQpqZpUJmZqRCZmakQgAApEIzM6JCzcycQpqZmkLNzJdCAACUQs3MkUIAAI5CAACOQs3MjkKamY9CMzORQpqZkEIzM5JCmpmWQmZmmUKamZxCZmafQgAApUKamadCAACoQjMzqEKamadCmpmnQs3Mp0IAAKhCzcynQpqZp0IAAKdCZmakQgAAm0IAAJpCAACaQgAAmkIAAJpCZmaZQs3MmEIzM5dCAACUQgAAkkIAAJFCZmaRQpqZkULNzJFCmpmRQpqZkUJmZpFCZmaRQjMzkUIAAJFCmpmQQs3Mj0KamY9CmpmQQpqZkUIAAJNCMzOTQjMzk0JnZpJCmpmRQpqZj0KamY9CzcyMQmZmiUIzM4dCAACEQgAAfkJmZnxCzcx8Qs3MfEJmZoNCAACGQjMzh0KamYpCmpmLQmZmjELNzIxCMzONQjMzjUJmZo9CmpmRQjMzkkLNzJJCMzOTQmZmk0JmZpNCZmaUQjMzlUIAAJdCAACZQgAAmkKamZpCAACbQgAAm0JmZptCzcykQgAAt0Kamb5CzczAQmdmwUKamcFCmpnBQjQzwULNzMBCmpm+QpqZtEIAALFCmpmtQpqZrUIAAKxCAACmQmZmpkJmZqRCMzOiQpqZoUJmZp9CAACfQgAAnEIAAJlCZmaYQjMzlkJnZpJCzcyMQmZmh0IzM3NCMzNtQjMzZ0IAAGhCZmZmQjMzZUIAAGZCmplfQgAAUEIAAFBCZ2ZQQjMzUUJnZlRCzcxYQgAAWkI=",
          "dtype": "f4"
         },
         "xaxis": "x2",
         "y": {
          "bdata": "AAABAAIAAwAEAAUABgAHAAgACQAKAAsADAANAA4ADwAQABEAEgATABQAFQAWABcAGAAZABoAGwAcAB0AHgAfACAAIQAiACMAJAAlACYAJwAoACkAKgArACwALQAuAC8AMAAxADIAMwA0ADUANgA3ADgAOQA6ADsAPAA9AD4APwBAAEEAQgBDAEQARQBGAEcASABJAEoASwBMAE0ATgBPAFAAUQBSAFMAVABVAFYAVwBYAFkAWgBbAFwAXQBeAF8AYABhAGIAYwBkAGUAZgBnAGgAaQBqAGsAbABtAG4AbwBwAHEAcgBzAHQAdQB2AHcAeAB5AHoAewB8AH0AfgB/AIAAgQCCAIMAhACFAIYAhwCIAIkAigCLAIwAjQCOAI8AkACRAJIAkwCUAJUAlgCXAJgAmQCaAJsAnACdAJ4AnwCgAKEAogCjAKQApQCmAKcAqACpAKoAqwCsAK0ArgCvALAAsQCyALMAtAC1ALYAtwC4ALkAugC7ALwAvQC+AL8AwADBAMIAwwDEAMUAxgDHAMgAyQDKAMsAzADNAM4AzwDQANEA0gDTANQA1QDWANcA2ADZANoA2wDcAN0A3gDfAOAA4QDiAOMA5ADlAOYA5wDoAOkA6gDrAOwA7QDuAO8A8ADxAPIA8wD0APUA9gD3APgA+QD6APsA/AD9AP4A/wAAAQEBAgEDAQQBBQEGAQcBCAEJAQoBCwEMAQ0BDgEPARABEQESARMBFAEVARYBFwEYARkBGgEbARwBHQEeAR8BIAEhASIBIwEkASUBJgEnASgBKQEqASsBLAEtAS4BLwEwATEBMgEzATQBNQE2ATcBOAE5AToBOwE8AT0BPgE/AUABQQFCAUMBRAFFAUYBRwFIAUkBSgFLAUwBTQFOAU8BUAFRAVIBUwFUAVUBVgFXAVgBWQFaAVsBXAFdAV4BXwFgAWEBYgFjAWQBZQFmAWcBaAFpAWoBawFsAW0BbgFvAXABcQFyAXMBdAF1AXYBdwF4AXkBegF7AXwBfQF+AX8BgAGBAYIBgwGEAYUBhgGHAYgBiQGKAYsBjAGNAY4BjwGQAZEBkgGTAZQBlQGWAZcBmAGZAZoBmwGcAZ0BngGfAaABoQGiAaMBpAGlAaYBpwGoAakBqgGrAawBrQGuAa8BsAGxAbIBswG0AbUBtgG3AbgBuQG6AbsBvAG9Ab4BvwHAAcEBwgHDAcQBxQHGAccByAHJAcoBywHMAc0BzgHPAdAB0QHSAdMB1AHVAdYB1wHYAdkB2gHbAdwB3QHeAd8B4AHhAeIB4wHkAeUB5gHnAegB6QHqAesB7AHtAe4B7wHwAfEB8gHzAfQB9QH2AfcB+AH5AfoB+wH8Af0B/gH/AQ==",
          "dtype": "i2"
         },
         "yaxis": "y2"
        },
        {
         "line": {
          "color": "green",
          "dash": "dash"
         },
         "mode": "lines",
         "name": "Synthetic",
         "type": "scatter",
         "x": {
          "bdata": "AEDORO0AIEF2/+9BOwBwQh4AjELe/8dC9/+QQ/z/JET8/z1EBIA2RAQASET8f2hEAgCCRP4/jUQCQINEAsCKRP6/gET8/3RE/P9lRASAXkQEAFxEBABcRPx/WUT8f1lEBABcRAQAXEQEgF5E/P9lRPz/ZUQEgG1EBABrRAQAa0QEAGtEBABrRAQAa0QEgG1EBIBtRASAbUQEgG1EBIBtRASAbUQEgG1EBIBtRPx/ckT8/29EBIBtRASAbUQEgG1EBIBtRASAd0QCQINEAoCJRP4/jUQCgI5EAgCRRP5/k0QCwI9E/r+eRAKAjkQCgIlE/r+FRAKAhEQCQINEAoCERAIAgkQCAIJEAgCCRAIAgkQCAIJEAgCCRALAj0QCwJREAsCURAJAl0QCwJRE/n+YRAIAm0T+/59EAoCiRAKAokQCwKNE/j+mRP6/qEQCgKJE/v+fRP7/n0T+/59E/j+hRP6/qET+/65EAAC5RAAAvkQAQMREAEDJRADAy0QAAMhEAIDFRABAxEQAQMREAEDERArjo0QifaNE0hKkRCJjpEQ+eKREsm2kRPZepETmYKREXmekRK5YpEQ6PqREXjSkRG5NpERKcaREroekRKpxpESKKqRESr+jRKJwo0TWTKNEojajRKbpokSSZaJEWvihROLToURaI6JE5ryiRC40o0ReQqNENgGjRGrIokQCzKJEUveiRHopo0RKGKNE1oqiRK6OoUR2fqBEosSfRP5an0RSA59EQn+eRI7enUTOOZ1EcticRNLRnERq6pxE9sycRFpbnESShJtEVkKaROo7mUTi15hE/qKYRO40mERyzpdExmSXROoKl0RyvJZEaiiWRN5olUR+spREmgOURDJyk0Rm55JEUkuSRJJ5kUT6XZBENiCPRJbjjUR+0IxEVhOMRAq4i0QCVItErsuKRIYFikTmy4hEPh+HRHIrhUSeK4NErnOBRF6EgES+ToBE+mqARAI0gET0x35EVDh8RITCeUS85XdETGB2RHRwdETUvHFEPA9uRHzmaUT0sGZEBJ9kRGRtY0R862JEPDRiRDzAYES8v15EFPlcRJSoW0QkZlpEJDxZRJxWWEQ0oFdEbHlWRHyTVERkP1JEzP9ORMSNS0RsTElEpFhIRFRfSERckUhEXCdGRAROQUSsiTxExCo6RGz4OEQcRzhE3KI2RPzRM0TU3S9E/MkrRNxfKETk4iVE1DMjRBSZH0QEJhtE9KMXRLRxFUQUOxREZAUSRHSSDUS0GQdE9+P/Q0dp80PXY+pDR/nlQ1fx4kOXQt1Dl4HTQ5ewxkO34rhDV32vQwfWqUMXB6VDR12gQ2dVmkN355BDV6yHQ2d0gUNPG3tDL4pxQy9zYkMvC0pDb0EnQ8/BBEPeb9lCXm3AQp6FnUI7CGNCOwUCQtolkkCKXarBxaQ7wqLFn8LiPdjCUUoGw3HsJMORYkbDkZ5owxliicNZ153D+S+wwzllwMNpSNDDuT3fw6kv7sOZEf/DTA0JxPQ6E8S0wxzErDImxETLLMTsWzLEfFw4xAQ2QcSMBk3EVKxaxGQGZsSsg3DEpFl7xC6jg8TGdojE/tGNxIqJksTm7ZbEWkKcxOLGocSyqKnECvSzxH6GvMQGBMTEZprIxPqIysTapc3EBm3TxJK228SGoeXEpoHtxGJE88RygffE7lD7xDrY/sSnUAHF5cwExScZCMXfsArFkSYNxSNyEMXnBBXFq9IaxY+NIsWRwyfFMTQqxQFFK8WNSSzFOdAtxcXVMMVtyjPFKZs4xXXsPcV1s0PFPVNKxR1MUMUZylbFoZlcxQUxYsVBq2jFnSFyxemJf8UXj4bFE7CNxSnok8VpqZfFO3KdxQNFo8X7bqjFDeitxYvdscVTLLbFf466xYsawMXNw8PFKfnFxWu2xcXnocfFZW/GxUlKycUvkrzFA/TMxeG8aMXbu9TFixyYxVt0wcVs/Q/EIYHTxeOpvsVpjMDFTYS1xU9GvMUlumrFf4nDxR2cQcWFxcLFgpz9xJ+/2sUB/bbFfbqyxR1LsMVPOqfFQz+RxUKMscQnu9TFEcecxRl0ZsW6OYHEDWbIxY9im8V1s0zFOt69xNv9uMWPNI/FpRU3xZbs0cTXUaDFac5oxcnaOsXndAjFTZp5xUWjYsWNgyTFCUtIxdnQJMUZWVnFQ/gXxZmoccUdJQXFaUZ9xWKv8MRVS43FenfhxCUKacWhcCPF4dI7xUHJJsUJjyPFMcgZxYPIE8Xn6w7FkXkLxeGYB8VR1AHFCt7zxKI84sS6aczE/siVxDwRZMTEk0zEPPo4xLR1KsTM2hnExIAHxAkS6MP577rD+RaEw1EDW8NxME3DEWE/w3H7LMPRqATDRYp5wnYb40HejflCL5E3Q88AW0MvDHRD956IQwfGnkMXq7pD50bSQ8dl40Mnce9DJ7X5QwzWAkRcMQ1E3AEZRETRH0TkliREROkoRCyNLERUbjBEDLYzRDRFNUQUsTVEPEw2RDRiOURMzD9E9JlIRDyFV0Q8Yl9EFEthRDSIYkSEQGVENC9qRKx2cEREeHZExFZ6RNSEe0TM+3pEROd5ROyieETUj3hE5Dt6RMyBfEREsX1ENNJ9RLQlfkRcAn9EjNh/RNrHgEQaBoJESj2DRHLqg0S+44NEdmaDRNIVg0Q=",
          "dtype": "f4"
         },
         "xaxis": "x",
         "y": {
          "bdata": "AAABAAIAAwAEAAUABgAHAAgACQAKAAsADAANAA4ADwAQABEAEgATABQAFQAWABcAGAAZABoAGwAcAB0AHgAfACAAIQAiACMAJAAlACYAJwAoACkAKgArACwALQAuAC8AMAAxADIAMwA0ADUANgA3ADgAOQA6ADsAPAA9AD4APwBAAEEAQgBDAEQARQBGAEcASABJAEoASwBMAE0ATgBPAFAAUQBSAFMAVABVAFYAVwBYAFkAWgBbAFwAXQBeAF8AYABhAGIAYwBkAGUAZgBnAGgAaQBqAGsAbABtAG4AbwBwAHEAcgBzAHQAdQB2AHcAeAB5AHoAewB8AH0AfgB/AIAAgQCCAIMAhACFAIYAhwCIAIkAigCLAIwAjQCOAI8AkACRAJIAkwCUAJUAlgCXAJgAmQCaAJsAnACdAJ4AnwCgAKEAogCjAKQApQCmAKcAqACpAKoAqwCsAK0ArgCvALAAsQCyALMAtAC1ALYAtwC4ALkAugC7ALwAvQC+AL8AwADBAMIAwwDEAMUAxgDHAMgAyQDKAMsAzADNAM4AzwDQANEA0gDTANQA1QDWANcA2ADZANoA2wDcAN0A3gDfAOAA4QDiAOMA5ADlAOYA5wDoAOkA6gDrAOwA7QDuAO8A8ADxAPIA8wD0APUA9gD3APgA+QD6APsA/AD9AP4A/wAAAQEBAgEDAQQBBQEGAQcBCAEJAQoBCwEMAQ0BDgEPARABEQESARMBFAEVARYBFwEYARkBGgEbARwBHQEeAR8BIAEhASIBIwEkASUBJgEnASgBKQEqASsBLAEtAS4BLwEwATEBMgEzATQBNQE2ATcBOAE5AToBOwE8AT0BPgE/AUABQQFCAUMBRAFFAUYBRwFIAUkBSgFLAUwBTQFOAU8BUAFRAVIBUwFUAVUBVgFXAVgBWQFaAVsBXAFdAV4BXwFgAWEBYgFjAWQBZQFmAWcBaAFpAWoBawFsAW0BbgFvAXABcQFyAXMBdAF1AXYBdwF4AXkBegF7AXwBfQF+AX8BgAGBAYIBgwGEAYUBhgGHAYgBiQGKAYsBjAGNAY4BjwGQAZEBkgGTAZQBlQGWAZcBmAGZAZoBmwGcAZ0BngGfAaABoQGiAaMBpAGlAaYBpwGoAakBqgGrAawBrQGuAa8BsAGxAbIBswG0AbUBtgG3AbgBuQG6AbsBvAG9Ab4BvwHAAcEBwgHDAcQBxQHGAccByAHJAcoBywHMAc0BzgHPAdAB0QHSAdMB1AHVAdYB1wHYAdkB2gHbAdwB3QHeAd8B4AHhAeIB4wHkAeUB5gHnAegB6QHqAesB7AHtAe4B7wHwAfEB8gHzAQ==",
          "dtype": "i2"
         },
         "yaxis": "y"
        },
        {
         "line": {
          "color": "green",
          "dash": "dash"
         },
         "mode": "lines",
         "name": "Synthetic",
         "type": "scatter",
         "x": {
          "bdata": "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",
          "dtype": "f4"
         },
         "xaxis": "x2",
         "y": {
          "bdata": "AAABAAIAAwAEAAUABgAHAAgACQAKAAsADAANAA4ADwAQABEAEgATABQAFQAWABcAGAAZABoAGwAcAB0AHgAfACAAIQAiACMAJAAlACYAJwAoACkAKgArACwALQAuAC8AMAAxADIAMwA0ADUANgA3ADgAOQA6ADsAPAA9AD4APwBAAEEAQgBDAEQARQBGAEcASABJAEoASwBMAE0ATgBPAFAAUQBSAFMAVABVAFYAVwBYAFkAWgBbAFwAXQBeAF8AYABhAGIAYwBkAGUAZgBnAGgAaQBqAGsAbABtAG4AbwBwAHEAcgBzAHQAdQB2AHcAeAB5AHoAewB8AH0AfgB/AIAAgQCCAIMAhACFAIYAhwCIAIkAigCLAIwAjQCOAI8AkACRAJIAkwCUAJUAlgCXAJgAmQCaAJsAnACdAJ4AnwCgAKEAogCjAKQApQCmAKcAqACpAKoAqwCsAK0ArgCvALAAsQCyALMAtAC1ALYAtwC4ALkAugC7ALwAvQC+AL8AwADBAMIAwwDEAMUAxgDHAMgAyQDKAMsAzADNAM4AzwDQANEA0gDTANQA1QDWANcA2ADZANoA2wDcAN0A3gDfAOAA4QDiAOMA5ADlAOYA5wDoAOkA6gDrAOwA7QDuAO8A8ADxAPIA8wD0APUA9gD3APgA+QD6APsA/AD9AP4A/wAAAQEBAgEDAQQBBQEGAQcBCAEJAQoBCwEMAQ0BDgEPARABEQESARMBFAEVARYBFwEYARkBGgEbARwBHQEeAR8BIAEhASIBIwEkASUBJgEnASgBKQEqASsBLAEtAS4BLwEwATEBMgEzATQBNQE2ATcBOAE5AToBOwE8AT0BPgE/AUABQQFCAUMBRAFFAUYBRwFIAUkBSgFLAUwBTQFOAU8BUAFRAVIBUwFUAVUBVgFXAVgBWQFaAVsBXAFdAV4BXwFgAWEBYgFjAWQBZQFmAWcBaAFpAWoBawFsAW0BbgFvAXABcQFyAXMBdAF1AXYBdwF4AXkBegF7AXwBfQF+AX8BgAGBAYIBgwGEAYUBhgGHAYgBiQGKAYsBjAGNAY4BjwGQAZEBkgGTAZQBlQGWAZcBmAGZAZoBmwGcAZ0BngGfAaABoQGiAaMBpAGlAaYBpwGoAakBqgGrAawBrQGuAa8BsAGxAbIBswG0AbUBtgG3AbgBuQG6AbsBvAG9Ab4BvwHAAcEBwgHDAcQBxQHGAccByAHJAcoBywHMAc0BzgHPAdAB0QHSAdMB1AHVAdYB1wHYAdkB2gHbAdwB3QHeAd8B4AHhAeIB4wHkAeUB5gHnAegB6QHqAesB7AHtAe4B7wHwAfEB8gHzAQ==",
          "dtype": "i2"
         },
         "yaxis": "y2"
        }
       ],
       "layout": {
        "annotations": [
         {
          "font": {
           "size": 16
          },
          "showarrow": false,
          "text": "Feature: qc",
          "x": 0.225,
          "xanchor": "center",
          "xref": "paper",
          "y": 1,
          "yanchor": "bottom",
          "yref": "paper"
         },
         {
          "font": {
           "size": 16
          },
          "showarrow": false,
          "text": "Feature: fs",
          "x": 0.775,
          "xanchor": "center",
          "xref": "paper",
          "y": 1,
          "yanchor": "bottom",
          "yref": "paper"
         },
         {
          "bgcolor": "rgba(255, 255, 255, 0.5)",
          "showarrow": false,
          "text": "Prompt",
          "x": 1040.000244140625,
          "xref": "x",
          "y": 50,
          "yref": "y"
         },
         {
          "bgcolor": "rgba(255, 255, 255, 0.5)",
          "showarrow": false,
          "text": "Prompt",
          "x": 46.5,
          "xref": "x2",
          "y": 50,
          "yref": "y2"
         }
        ],
        "height": 700,
        "legend": {
         "orientation": "h",
         "x": 1,
         "xanchor": "right",
         "y": 1.02,
         "yanchor": "bottom"
        },
        "shapes": [
         {
          "fillcolor": "red",
          "layer": "below",
          "line": {
           "width": 0
          },
          "opacity": 0.1,
          "type": "rect",
          "x0": -6299.957373046876,
          "x1": 2959.0000000000005,
          "xref": "x",
          "y0": -0.5,
          "y1": 99.5,
          "yref": "y"
         },
         {
          "fillcolor": "red",
          "layer": "below",
          "line": {
           "width": 0
          },
          "opacity": 0.1,
          "type": "rect",
          "x0": 9.389545141402778e-9,
          "x1": 1969.8557495117188,
          "xref": "x2",
          "y0": -0.5,
          "y1": 99.5,
          "yref": "y2"
         }
        ],
        "template": {
         "data": {
          "bar": [
           {
            "error_x": {
             "color": "#2a3f5f"
            },
            "error_y": {
             "color": "#2a3f5f"
            },
            "marker": {
             "line": {
              "color": "#E5ECF6",
              "width": 0.5
             },
             "pattern": {
              "fillmode": "overlay",
              "size": 10,
              "solidity": 0.2
             }
            },
            "type": "bar"
           }
          ],
          "barpolar": [
           {
            "marker": {
             "line": {
              "color": "#E5ECF6",
              "width": 0.5
             },
             "pattern": {
              "fillmode": "overlay",
              "size": 10,
              "solidity": 0.2
             }
            },
            "type": "barpolar"
           }
          ],
          "carpet": [
           {
            "aaxis": {
             "endlinecolor": "#2a3f5f",
             "gridcolor": "white",
             "linecolor": "white",
             "minorgridcolor": "white",
             "startlinecolor": "#2a3f5f"
            },
            "baxis": {
             "endlinecolor": "#2a3f5f",
             "gridcolor": "white",
             "linecolor": "white",
             "minorgridcolor": "white",
             "startlinecolor": "#2a3f5f"
            },
            "type": "carpet"
           }
          ],
          "choropleth": [
           {
            "colorbar": {
             "outlinewidth": 0,
             "ticks": ""
            },
            "type": "choropleth"
           }
          ],
          "contour": [
           {
            "colorbar": {
             "outlinewidth": 0,
             "ticks": ""
            },
            "colorscale": [
             [
              0,
              "#0d0887"
             ],
             [
              0.1111111111111111,
              "#46039f"
             ],
             [
              0.2222222222222222,
              "#7201a8"
             ],
             [
              0.3333333333333333,
              "#9c179e"
             ],
             [
              0.4444444444444444,
              "#bd3786"
             ],
             [
              0.5555555555555556,
              "#d8576b"
             ],
             [
              0.6666666666666666,
              "#ed7953"
             ],
             [
              0.7777777777777778,
              "#fb9f3a"
             ],
             [
              0.8888888888888888,
              "#fdca26"
             ],
             [
              1,
              "#f0f921"
             ]
            ],
            "type": "contour"
           }
          ],
          "contourcarpet": [
           {
            "colorbar": {
             "outlinewidth": 0,
             "ticks": ""
            },
            "type": "contourcarpet"
           }
          ],
          "heatmap": [
           {
            "colorbar": {
             "outlinewidth": 0,
             "ticks": ""
            },
            "colorscale": [
             [
              0,
              "#0d0887"
             ],
             [
              0.1111111111111111,
              "#46039f"
             ],
             [
              0.2222222222222222,
              "#7201a8"
             ],
             [
              0.3333333333333333,
              "#9c179e"
             ],
             [
              0.4444444444444444,
              "#bd3786"
             ],
             [
              0.5555555555555556,
              "#d8576b"
             ],
             [
              0.6666666666666666,
              "#ed7953"
             ],
             [
              0.7777777777777778,
              "#fb9f3a"
             ],
             [
              0.8888888888888888,
              "#fdca26"
             ],
             [
              1,
              "#f0f921"
             ]
            ],
            "type": "heatmap"
           }
          ],
          "histogram": [
           {
            "marker": {
             "pattern": {
              "fillmode": "overlay",
              "size": 10,
              "solidity": 0.2
             }
            },
            "type": "histogram"
           }
          ],
          "histogram2d": [
           {
            "colorbar": {
             "outlinewidth": 0,
             "ticks": ""
            },
            "colorscale": [
             [
              0,
              "#0d0887"
             ],
             [
              0.1111111111111111,
              "#46039f"
             ],
             [
              0.2222222222222222,
              "#7201a8"
             ],
             [
              0.3333333333333333,
              "#9c179e"
             ],
             [
              0.4444444444444444,
              "#bd3786"
             ],
             [
              0.5555555555555556,
              "#d8576b"
             ],
             [
              0.6666666666666666,
              "#ed7953"
             ],
             [
              0.7777777777777778,
              "#fb9f3a"
             ],
             [
              0.8888888888888888,
              "#fdca26"
             ],
             [
              1,
              "#f0f921"
             ]
            ],
            "type": "histogram2d"
           }
          ],
          "histogram2dcontour": [
           {
            "colorbar": {
             "outlinewidth": 0,
             "ticks": ""
            },
            "colorscale": [
             [
              0,
              "#0d0887"
             ],
             [
              0.1111111111111111,
              "#46039f"
             ],
             [
              0.2222222222222222,
              "#7201a8"
             ],
             [
              0.3333333333333333,
              "#9c179e"
             ],
             [
              0.4444444444444444,
              "#bd3786"
             ],
             [
              0.5555555555555556,
              "#d8576b"
             ],
             [
              0.6666666666666666,
              "#ed7953"
             ],
             [
              0.7777777777777778,
              "#fb9f3a"
             ],
             [
              0.8888888888888888,
              "#fdca26"
             ],
             [
              1,
              "#f0f921"
             ]
            ],
            "type": "histogram2dcontour"
           }
          ],
          "mesh3d": [
           {
            "colorbar": {
             "outlinewidth": 0,
             "ticks": ""
            },
            "type": "mesh3d"
           }
          ],
          "parcoords": [
           {
            "line": {
             "colorbar": {
              "outlinewidth": 0,
              "ticks": ""
             }
            },
            "type": "parcoords"
           }
          ],
          "pie": [
           {
            "automargin": true,
            "type": "pie"
           }
          ],
          "scatter": [
           {
            "fillpattern": {
             "fillmode": "overlay",
             "size": 10,
             "solidity": 0.2
            },
            "type": "scatter"
           }
          ],
          "scatter3d": [
           {
            "line": {
             "colorbar": {
              "outlinewidth": 0,
              "ticks": ""
             }
            },
            "marker": {
             "colorbar": {
              "outlinewidth": 0,
              "ticks": ""
             }
            },
            "type": "scatter3d"
           }
          ],
          "scattercarpet": [
           {
            "marker": {
             "colorbar": {
              "outlinewidth": 0,
              "ticks": ""
             }
            },
            "type": "scattercarpet"
           }
          ],
          "scattergeo": [
           {
            "marker": {
             "colorbar": {
              "outlinewidth": 0,
              "ticks": ""
             }
            },
            "type": "scattergeo"
           }
          ],
          "scattergl": [
           {
            "marker": {
             "colorbar": {
              "outlinewidth": 0,
              "ticks": ""
             }
            },
            "type": "scattergl"
           }
          ],
          "scattermap": [
           {
            "marker": {
             "colorbar": {
              "outlinewidth": 0,
              "ticks": ""
             }
            },
            "type": "scattermap"
           }
          ],
          "scattermapbox": [
           {
            "marker": {
             "colorbar": {
              "outlinewidth": 0,
              "ticks": ""
             }
            },
            "type": "scattermapbox"
           }
          ],
          "scatterpolar": [
           {
            "marker": {
             "colorbar": {
              "outlinewidth": 0,
              "ticks": ""
             }
            },
            "type": "scatterpolar"
           }
          ],
          "scatterpolargl": [
           {
            "marker": {
             "colorbar": {
              "outlinewidth": 0,
              "ticks": ""
             }
            },
            "type": "scatterpolargl"
           }
          ],
          "scatterternary": [
           {
            "marker": {
             "colorbar": {
              "outlinewidth": 0,
              "ticks": ""
             }
            },
            "type": "scatterternary"
           }
          ],
          "surface": [
           {
            "colorbar": {
             "outlinewidth": 0,
             "ticks": ""
            },
            "colorscale": [
             [
              0,
              "#0d0887"
             ],
             [
              0.1111111111111111,
              "#46039f"
             ],
             [
              0.2222222222222222,
              "#7201a8"
             ],
             [
              0.3333333333333333,
              "#9c179e"
             ],
             [
              0.4444444444444444,
              "#bd3786"
             ],
             [
              0.5555555555555556,
              "#d8576b"
             ],
             [
              0.6666666666666666,
              "#ed7953"
             ],
             [
              0.7777777777777778,
              "#fb9f3a"
             ],
             [
              0.8888888888888888,
              "#fdca26"
             ],
             [
              1,
              "#f0f921"
             ]
            ],
            "type": "surface"
           }
          ],
          "table": [
           {
            "cells": {
             "fill": {
              "color": "#EBF0F8"
             },
             "line": {
              "color": "white"
             }
            },
            "header": {
             "fill": {
              "color": "#C8D4E3"
             },
             "line": {
              "color": "white"
             }
            },
            "type": "table"
           }
          ]
         },
         "layout": {
          "annotationdefaults": {
           "arrowcolor": "#2a3f5f",
           "arrowhead": 0,
           "arrowwidth": 1
          },
          "autotypenumbers": "strict",
          "coloraxis": {
           "colorbar": {
            "outlinewidth": 0,
            "ticks": ""
           }
          },
          "colorscale": {
           "diverging": [
            [
             0,
             "#8e0152"
            ],
            [
             0.1,
             "#c51b7d"
            ],
            [
             0.2,
             "#de77ae"
            ],
            [
             0.3,
             "#f1b6da"
            ],
            [
             0.4,
             "#fde0ef"
            ],
            [
             0.5,
             "#f7f7f7"
            ],
            [
             0.6,
             "#e6f5d0"
            ],
            [
             0.7,
             "#b8e186"
            ],
            [
             0.8,
             "#7fbc41"
            ],
            [
             0.9,
             "#4d9221"
            ],
            [
             1,
             "#276419"
            ]
           ],
           "sequential": [
            [
             0,
             "#0d0887"
            ],
            [
             0.1111111111111111,
             "#46039f"
            ],
            [
             0.2222222222222222,
             "#7201a8"
            ],
            [
             0.3333333333333333,
             "#9c179e"
            ],
            [
             0.4444444444444444,
             "#bd3786"
            ],
            [
             0.5555555555555556,
             "#d8576b"
            ],
            [
             0.6666666666666666,
             "#ed7953"
            ],
            [
             0.7777777777777778,
             "#fb9f3a"
            ],
            [
             0.8888888888888888,
             "#fdca26"
            ],
            [
             1,
             "#f0f921"
            ]
           ],
           "sequentialminus": [
            [
             0,
             "#0d0887"
            ],
            [
             0.1111111111111111,
             "#46039f"
            ],
            [
             0.2222222222222222,
             "#7201a8"
            ],
            [
             0.3333333333333333,
             "#9c179e"
            ],
            [
             0.4444444444444444,
             "#bd3786"
            ],
            [
             0.5555555555555556,
             "#d8576b"
            ],
            [
             0.6666666666666666,
             "#ed7953"
            ],
            [
             0.7777777777777778,
             "#fb9f3a"
            ],
            [
             0.8888888888888888,
             "#fdca26"
            ],
            [
             1,
             "#f0f921"
            ]
           ]
          },
          "colorway": [
           "#636efa",
           "#EF553B",
           "#00cc96",
           "#ab63fa",
           "#FFA15A",
           "#19d3f3",
           "#FF6692",
           "#B6E880",
           "#FF97FF",
           "#FECB52"
          ],
          "font": {
           "color": "#2a3f5f"
          },
          "geo": {
           "bgcolor": "white",
           "lakecolor": "white",
           "landcolor": "#E5ECF6",
           "showlakes": true,
           "showland": true,
           "subunitcolor": "white"
          },
          "hoverlabel": {
           "align": "left"
          },
          "hovermode": "closest",
          "mapbox": {
           "style": "light"
          },
          "paper_bgcolor": "white",
          "plot_bgcolor": "#E5ECF6",
          "polar": {
           "angularaxis": {
            "gridcolor": "white",
            "linecolor": "white",
            "ticks": ""
           },
           "bgcolor": "#E5ECF6",
           "radialaxis": {
            "gridcolor": "white",
            "linecolor": "white",
            "ticks": ""
           }
          },
          "scene": {
           "xaxis": {
            "backgroundcolor": "#E5ECF6",
            "gridcolor": "white",
            "gridwidth": 2,
            "linecolor": "white",
            "showbackground": true,
            "ticks": "",
            "zerolinecolor": "white"
           },
           "yaxis": {
            "backgroundcolor": "#E5ECF6",
            "gridcolor": "white",
            "gridwidth": 2,
            "linecolor": "white",
            "showbackground": true,
            "ticks": "",
            "zerolinecolor": "white"
           },
           "zaxis": {
            "backgroundcolor": "#E5ECF6",
            "gridcolor": "white",
            "gridwidth": 2,
            "linecolor": "white",
            "showbackground": true,
            "ticks": "",
            "zerolinecolor": "white"
           }
          },
          "shapedefaults": {
           "line": {
            "color": "#2a3f5f"
           }
          },
          "ternary": {
           "aaxis": {
            "gridcolor": "white",
            "linecolor": "white",
            "ticks": ""
           },
           "baxis": {
            "gridcolor": "white",
            "linecolor": "white",
            "ticks": ""
           },
           "bgcolor": "#E5ECF6",
           "caxis": {
            "gridcolor": "white",
            "linecolor": "white",
            "ticks": ""
           }
          },
          "title": {
           "x": 0.05
          },
          "xaxis": {
           "automargin": true,
           "gridcolor": "white",
           "linecolor": "white",
           "ticks": "",
           "title": {
            "standoff": 15
           },
           "zerolinecolor": "white",
           "zerolinewidth": 2
          },
          "yaxis": {
           "automargin": true,
           "gridcolor": "white",
           "linecolor": "white",
           "ticks": "",
           "title": {
            "standoff": 15
           },
           "zerolinecolor": "white",
           "zerolinewidth": 2
          }
         }
        },
        "title": {
         "text": "Synthetic CPT Generation vs. Original"
        },
        "width": 1000,
        "xaxis": {
         "anchor": "y",
         "domain": [
          0,
          0.45
         ]
        },
        "xaxis2": {
         "anchor": "y2",
         "domain": [
          0.55,
          1
         ]
        },
        "yaxis": {
         "anchor": "x",
         "autorange": "reversed",
         "domain": [
          0,
          1
         ],
         "title": {
          "text": "Depth Index"
         }
        },
        "yaxis2": {
         "anchor": "x2",
         "autorange": "reversed",
         "domain": [
          0,
          1
         ],
         "title": {
          "text": "Depth Index"
         }
        }
       }
      }
     },
     "metadata": {},
     "output_type": "display_data"
    }
   ],
   "source": [
    "def plot_generated_cpt(original_cpt, synthetic_cpt, prompt_len, feature_names=[\"qc\", \"fs\"]):\n",
    "    \"\"\"Plots a comparison of an original and a synthetically generated CPT.\"\"\"\n",
    "    if synthetic_cpt is None:\n",
    "        print(\"No synthetic data to plot.\")\n",
    "        return\n",
    "        \n",
    "    fig = make_subplots(rows=1, cols=len(feature_names), subplot_titles=[f'Feature: {name}' for name in feature_names])\n",
    "    \n",
    "    # Plot Original CPT\n",
    "    original_depth = np.arange(len(original_cpt))\n",
    "    for i, name in enumerate(feature_names):\n",
    "        fig.add_trace(go.Scatter(x=original_cpt[:, i], y=original_depth, mode='lines', name='Original', line=dict(color='blue', width=2)), row=1, col=i+1)\n",
    "\n",
    "    # Plot Synthetic CPT\n",
    "    synthetic_depth = np.arange(len(synthetic_cpt))\n",
    "    for i, name in enumerate(feature_names):\n",
    "        fig.add_trace(go.Scatter(x=synthetic_cpt[:, i], y=synthetic_depth, mode='lines', name='Synthetic', line=dict(color='green', dash='dash')), row=1, col=i+1)\n",
    "    \n",
    "    # Highlight the prompt region\n",
    "    for i, name in enumerate(feature_names):\n",
    "        fig.add_shape(\n",
    "            type=\"rect\",\n",
    "            x0=min(original_cpt[:, i].min(), synthetic_cpt[:, i].min()) * 0.9,\n",
    "            x1=max(original_cpt[:, i].max(), synthetic_cpt[:, i].max()) * 1.1,\n",
    "            y0=-0.5,\n",
    "            y1=prompt_len - 0.5,\n",
    "            fillcolor=\"red\",\n",
    "            opacity=0.1, layer=\"below\", line_width=0,\n",
    "            row=1, col=i+1\n",
    "        )\n",
    "        fig.add_annotation(\n",
    "            text=\"Prompt\",\n",
    "            x=np.median(original_cpt[:prompt_len, i]), y=prompt_len / 2,\n",
    "            showarrow=False, bgcolor=\"rgba(255, 255, 255, 0.5)\",\n",
    "            row=1, col=i+1\n",
    "        )\n",
    "\n",
    "    fig.update_yaxes(autorange=\"reversed\", title_text=\"Depth Index\")\n",
    "    fig.update_layout(\n",
    "        title_text='Synthetic CPT Generation vs. Original',\n",
    "        height=700, width=1000,\n",
    "        legend=dict(orientation=\"h\", yanchor=\"bottom\", y=1.02, xanchor=\"right\", x=1)\n",
    "    )\n",
    "    fig.show()\n",
    "\n",
    "# Plot the results\n",
    "plot_generated_cpt(original_cpt_unscaled, synthetic_cpt, PROMPT_LENGTH, feature_names=[\"qc\", \"fs\"])"
   ]
  }
 ],
 "metadata": {
  "kernelspec": {
   "display_name": "cpt-fm",
   "language": "python",
   "name": "python3"
  },
  "language_info": {
   "codemirror_mode": {
    "name": "ipython",
    "version": 3
   },
   "file_extension": ".py",
   "mimetype": "text/x-python",
   "name": "python",
   "nbconvert_exporter": "python",
   "pygments_lexer": "ipython3",
   "version": "3.10.18"
  }
 },
 "nbformat": 4,
 "nbformat_minor": 5
}
