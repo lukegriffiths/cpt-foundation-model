{
 "cells": [
  {
   "cell_type": "markdown",
   "id": "2abce3fa",
   "metadata": {},
   "source": [
    "# Model Evaluation on the Test Set\n",
    "\n",
    "This notebook evaluates the performance of the trained CPT Foundation Model on the held-out test set. The evaluation process consists of the following steps:\n",
    "\n",
    "1.  **Load Configuration and Model**: Load the same configuration file used for training and reinstantiate the model architecture. Load the trained weights from the saved `.pth` file.\n",
    "2.  **Load Test Data**: Use the `CPTDataModule` to get the `DataLoader` for the test split. This ensures we use the exact same data preprocessing and splits.\n",
    "3.  **Perform Inference**:\n",
    "    *   Iterate through the test set.\n",
    "    *   For each CPT profile, apply the same masking strategy used during training.\n",
    "    *   Feed the corrupted (masked) data to the model to get the reconstructions.\n",
    "4.  **Calculate Loss**: Compute the Mean Squared Error (MSE) between the model's predictions and the true values **only for the masked tokens**. This tells us how well the model can \"fill in the blanks.\"\n",
    "5.  **Visualize Results**: Plot a few examples from the test set, showing:\n",
    "    *   The original, complete CPT data.\n",
    "    *   The corrupted data with masked portions that were fed to the model.\n",
    "    *   The model's reconstructed output.\n",
    "\n",
    "This provides both a quantitative (MSE) and qualitative (visualization) assessment of the model's pre-training performance."
   ]
  },
  {
   "cell_type": "code",
   "execution_count": 8,
   "id": "2dcdb72f",
   "metadata": {},
   "outputs": [],
   "source": [
    "import os\n",
    "import yaml\n",
    "import argparse\n",
    "import torch\n",
    "import numpy as np\n",
    "import pandas as pd\n",
    "from tqdm import tqdm\n",
    "import plotly.graph_objects as go\n",
    "from plotly.subplots import make_subplots\n",
    "\n",
    "# Change working directory to project root to handle relative paths correctly\n",
    "if os.path.basename(os.getcwd()) == 'notebooks':\n",
    "    os.chdir('..')\n",
    "\n",
    "# Make sure the script can find the src modules\n",
    "import sys\n",
    "sys.path.append(os.path.abspath('src'))\n",
    "\n",
    "from data_utils import CPTDataModule\n",
    "from model import CPTFoundationModel"
   ]
  },
  {
   "cell_type": "code",
   "execution_count": null,
   "id": "170cda4b",
   "metadata": {},
   "outputs": [],
   "source": [
    "# Set a random seed for reproducibility\n",
    "SEED = 42\n",
    "torch.manual_seed(SEED)\n",
    "np.random.seed(SEED)\n",
    "print(f\"Using random seed: {SEED}\")"
   ]
  },
  {
   "cell_type": "markdown",
   "id": "88b647a7",
   "metadata": {},
   "source": [
    "### 1. Load Configuration and Set Up Device\n",
    "We'll load the `PG_dataset.yaml` to ensure all our parameters (model dimensions, paths, etc.) are consistent with the training setup."
   ]
  },
  {
   "cell_type": "code",
   "execution_count": 9,
   "id": "0052019d",
   "metadata": {},
   "outputs": [
    {
     "name": "stdout",
     "output_type": "stream",
     "text": [
      "Configuration file loaded successfully.\n",
      "Using device: cuda\n"
     ]
    }
   ],
   "source": [
    "CONFIG_PATH = 'configs/PG_dataset.yaml'\n",
    "\n",
    "# Load the YAML configuration file\n",
    "try:\n",
    "    with open(CONFIG_PATH, 'r') as f:\n",
    "        config = yaml.safe_load(f)\n",
    "    print(\"Configuration file loaded successfully.\")\n",
    "except FileNotFoundError:\n",
    "    print(f\"Error: Configuration file not found at '{CONFIG_PATH}'\")\n",
    "    config = None\n",
    "except Exception as e:\n",
    "    print(f\"Error loading configuration file: {e}\")\n",
    "    config = None\n",
    "\n",
    "# Setup device\n",
    "device = torch.device(\"cuda\" if torch.cuda.is_available() else \"cpu\")\n",
    "print(f\"Using device: {device}\")"
   ]
  },
  {
   "cell_type": "markdown",
   "id": "50108d91",
   "metadata": {},
   "source": [
    "### 2. Load the Trained Model\n",
    "Instantiate the model with the parameters from the config file and then load the saved weights from the training process. It's crucial to set the model to evaluation mode using `.eval()` to disable layers like Dropout."
   ]
  },
  {
   "cell_type": "code",
   "execution_count": 10,
   "id": "2359b8a8",
   "metadata": {},
   "outputs": [
    {
     "ename": "RuntimeError",
     "evalue": "Error(s) in loading state_dict for CPTFoundationModel:\n\tMissing key(s) in state_dict: \"pos_encoder.pe\". ",
     "output_type": "error",
     "traceback": [
      "\u001b[0;31m---------------------------------------------------------------------------\u001b[0m",
      "\u001b[0;31mRuntimeError\u001b[0m                              Traceback (most recent call last)",
      "Cell \u001b[0;32mIn[10], line 17\u001b[0m\n\u001b[1;32m     15\u001b[0m \u001b[38;5;28;01mif\u001b[39;00m os\u001b[38;5;241m.\u001b[39mpath\u001b[38;5;241m.\u001b[39mexists(model_path):\n\u001b[1;32m     16\u001b[0m     checkpoint \u001b[38;5;241m=\u001b[39m torch\u001b[38;5;241m.\u001b[39mload(model_path, map_location\u001b[38;5;241m=\u001b[39mdevice)\n\u001b[0;32m---> 17\u001b[0m     \u001b[43mmodel\u001b[49m\u001b[38;5;241;43m.\u001b[39;49m\u001b[43mload_state_dict\u001b[49m\u001b[43m(\u001b[49m\u001b[43mcheckpoint\u001b[49m\u001b[43m[\u001b[49m\u001b[38;5;124;43m'\u001b[39;49m\u001b[38;5;124;43mmodel_state_dict\u001b[39;49m\u001b[38;5;124;43m'\u001b[39;49m\u001b[43m]\u001b[49m\u001b[43m)\u001b[49m\n\u001b[1;32m     18\u001b[0m     model\u001b[38;5;241m.\u001b[39meval() \u001b[38;5;66;03m# Set the model to evaluation mode\u001b[39;00m\n\u001b[1;32m     19\u001b[0m     \u001b[38;5;28mprint\u001b[39m(\u001b[38;5;124mf\u001b[39m\u001b[38;5;124m\"\u001b[39m\u001b[38;5;124mModel loaded successfully from \u001b[39m\u001b[38;5;124m'\u001b[39m\u001b[38;5;132;01m{\u001b[39;00mmodel_path\u001b[38;5;132;01m}\u001b[39;00m\u001b[38;5;124m'\u001b[39m\u001b[38;5;124m\"\u001b[39m)\n",
      "File \u001b[0;32m~/.local/lib/python3.10/site-packages/torch/nn/modules/module.py:1671\u001b[0m, in \u001b[0;36mModule.load_state_dict\u001b[0;34m(self, state_dict, strict)\u001b[0m\n\u001b[1;32m   1666\u001b[0m         error_msgs\u001b[38;5;241m.\u001b[39minsert(\n\u001b[1;32m   1667\u001b[0m             \u001b[38;5;241m0\u001b[39m, \u001b[38;5;124m'\u001b[39m\u001b[38;5;124mMissing key(s) in state_dict: \u001b[39m\u001b[38;5;132;01m{}\u001b[39;00m\u001b[38;5;124m. \u001b[39m\u001b[38;5;124m'\u001b[39m\u001b[38;5;241m.\u001b[39mformat(\n\u001b[1;32m   1668\u001b[0m                 \u001b[38;5;124m'\u001b[39m\u001b[38;5;124m, \u001b[39m\u001b[38;5;124m'\u001b[39m\u001b[38;5;241m.\u001b[39mjoin(\u001b[38;5;124m'\u001b[39m\u001b[38;5;124m\"\u001b[39m\u001b[38;5;132;01m{}\u001b[39;00m\u001b[38;5;124m\"\u001b[39m\u001b[38;5;124m'\u001b[39m\u001b[38;5;241m.\u001b[39mformat(k) \u001b[38;5;28;01mfor\u001b[39;00m k \u001b[38;5;129;01min\u001b[39;00m missing_keys)))\n\u001b[1;32m   1670\u001b[0m \u001b[38;5;28;01mif\u001b[39;00m \u001b[38;5;28mlen\u001b[39m(error_msgs) \u001b[38;5;241m>\u001b[39m \u001b[38;5;241m0\u001b[39m:\n\u001b[0;32m-> 1671\u001b[0m     \u001b[38;5;28;01mraise\u001b[39;00m \u001b[38;5;167;01mRuntimeError\u001b[39;00m(\u001b[38;5;124m'\u001b[39m\u001b[38;5;124mError(s) in loading state_dict for \u001b[39m\u001b[38;5;132;01m{}\u001b[39;00m\u001b[38;5;124m:\u001b[39m\u001b[38;5;130;01m\\n\u001b[39;00m\u001b[38;5;130;01m\\t\u001b[39;00m\u001b[38;5;132;01m{}\u001b[39;00m\u001b[38;5;124m'\u001b[39m\u001b[38;5;241m.\u001b[39mformat(\n\u001b[1;32m   1672\u001b[0m                        \u001b[38;5;28mself\u001b[39m\u001b[38;5;241m.\u001b[39m\u001b[38;5;18m__class__\u001b[39m\u001b[38;5;241m.\u001b[39m\u001b[38;5;18m__name__\u001b[39m, \u001b[38;5;124m\"\u001b[39m\u001b[38;5;130;01m\\n\u001b[39;00m\u001b[38;5;130;01m\\t\u001b[39;00m\u001b[38;5;124m\"\u001b[39m\u001b[38;5;241m.\u001b[39mjoin(error_msgs)))\n\u001b[1;32m   1673\u001b[0m \u001b[38;5;28;01mreturn\u001b[39;00m _IncompatibleKeys(missing_keys, unexpected_keys)\n",
      "\u001b[0;31mRuntimeError\u001b[0m: Error(s) in loading state_dict for CPTFoundationModel:\n\tMissing key(s) in state_dict: \"pos_encoder.pe\". "
     ]
    }
   ],
   "source": [
    "if config:\n",
    "    model_params = config['model_params']\n",
    "    paths = config['data_paths']\n",
    "    \n",
    "    # Initialize the model\n",
    "    model = CPTFoundationModel(\n",
    "        num_features=model_params['num_features'],\n",
    "        model_dim=model_params['model_dim'],\n",
    "        num_heads=model_params['num_heads'],\n",
    "        num_layers=model_params['num_layers']\n",
    "    ).to(device)\n",
    "\n",
    "    # Load the saved model checkpoint\n",
    "    model_path = paths['model_save_path']\n",
    "    if os.path.exists(model_path):\n",
    "        checkpoint = torch.load(model_path, map_location=device)\n",
    "        model.load_state_dict(checkpoint['model_state_dict'])\n",
    "        model.eval() # Set the model to evaluation mode\n",
    "        print(f\"Model loaded successfully from '{model_path}'\")\n",
    "        print(f\"Trained for {checkpoint.get('epoch', 'N/A')} epochs with a final loss of {checkpoint.get('loss', 'N/A'):.6f}\")\n",
    "    else:\n",
    "        print(f\"Error: Model file not found at '{model_path}'\")\n",
    "        model = None"
   ]
  },
  {
   "cell_type": "code",
   "execution_count": null,
   "id": "a55606c4",
   "metadata": {},
   "outputs": [
    {
     "name": "stdout",
     "output_type": "stream",
     "text": [
      "Scaler loaded from 'data/processed/PG/scaler.joblib'\n"
     ]
    }
   ],
   "source": [
    "# Load the scaler used during preprocessing\n",
    "import joblib\n",
    "\n",
    "scaler = None\n",
    "if config:\n",
    "    scaler_path = config['data_paths'].get('scaler_path') # Use .get for safety\n",
    "    if scaler_path and os.path.exists(scaler_path):\n",
    "        scaler = joblib.load(scaler_path)\n",
    "        print(f\"Scaler loaded from '{scaler_path}'\")\n",
    "    else:\n",
    "        print(\"Warning: Scaler file not found. Visualization will show scaled values.\")"
   ]
  },
  {
   "cell_type": "markdown",
   "id": "35955999",
   "metadata": {},
   "source": [
    "### 3. Load the Test Dataset\n",
    "We use our `CPTDataModule` to handle the data setup. It will automatically find the processed data and load the correct test set based on the `test_ids.txt` file."
   ]
  },
  {
   "cell_type": "code",
   "execution_count": null,
   "id": "09972a11",
   "metadata": {},
   "outputs": [
    {
     "name": "stdout",
     "output_type": "stream",
     "text": [
      "Setting up data module for the test set...\n",
      "Found existing processed data in 'data/processed/PG'. Delete to reprocess.\n",
      "Processing 1071 files with max_len=1028 and overlap=256...\n",
      "Processing 1071 files with max_len=1028 and overlap=256...\n"
     ]
    },
    {
     "name": "stderr",
     "output_type": "stream",
     "text": [
      "Loading and Chunking Data: 100%|██████████| 1071/1071 [00:07<00:00, 149.20it/s]\n",
      "\n"
     ]
    },
    {
     "name": "stdout",
     "output_type": "stream",
     "text": [
      "Processing 133 files with max_len=1028 and overlap=256...\n"
     ]
    },
    {
     "name": "stderr",
     "output_type": "stream",
     "text": [
      "Loading and Chunking Data: 100%|██████████| 133/133 [00:00<00:00, 143.72it/s]\n",
      "\n"
     ]
    },
    {
     "name": "stdout",
     "output_type": "stream",
     "text": [
      "Processing 135 files with max_len=1028 and overlap=256...\n"
     ]
    },
    {
     "name": "stderr",
     "output_type": "stream",
     "text": [
      "Loading and Chunking Data: 100%|██████████| 135/135 [00:00<00:00, 149.65it/s]"
     ]
    },
    {
     "name": "stdout",
     "output_type": "stream",
     "text": [
      "Train dataset size: 2813\n",
      "Validation dataset size: 353\n",
      "Test dataset size: 362\n",
      "Test data loaded successfully.\n"
     ]
    },
    {
     "name": "stderr",
     "output_type": "stream",
     "text": [
      "\n"
     ]
    }
   ],
   "source": [
    "if config:\n",
    "    print(\"Setting up data module for the test set...\")\n",
    "    data_module = CPTDataModule(config)\n",
    "    data_module.setup() # This will set up train, val, and test datasets\n",
    "    \n",
    "    # Get the DataLoader for the test set\n",
    "    test_loader = data_module.get_dataloader(stage='test', shuffle=False)\n",
    "    print(\"Test data loaded successfully.\")"
   ]
  },
  {
   "cell_type": "markdown",
   "id": "d10080f0",
   "metadata": {},
   "source": [
    "### 4. Run Evaluation and Calculate Loss\n",
    "Now we'll loop through the test set. In `torch.no_grad()` mode, we perform the forward pass to get the model's reconstructions and calculate the MSE loss on the masked values. We'll also store some examples for visualization later."
   ]
  },
  {
   "cell_type": "code",
   "execution_count": null,
   "id": "15dd9332",
   "metadata": {},
   "outputs": [
    {
     "name": "stderr",
     "output_type": "stream",
     "text": [
      "Evaluating on Test Set:   0%|          | 0/91 [00:00<?, ?it/s]"
     ]
    },
    {
     "name": "stderr",
     "output_type": "stream",
     "text": [
      "/home/lug/.local/lib/python3.10/site-packages/torch/nn/modules/transformer.py:276: UserWarning: The PyTorch API of nested tensors is in prototype stage and will change in the near future. (Triggered internally at ../aten/src/ATen/NestedTensorImpl.cpp:175.)\n",
      "  output = torch._nested_tensor_from_mask(output, src_key_padding_mask.logical_not(), mask_check=False)\n",
      "Evaluating on Test Set: 100%|██████████| 91/91 [00:05<00:00, 17.71it/s]"
     ]
    },
    {
     "name": "stdout",
     "output_type": "stream",
     "text": [
      "\n",
      "Evaluation Complete.\n",
      "Average MSE on masked tokens in the test set: nan\n"
     ]
    },
    {
     "name": "stderr",
     "output_type": "stream",
     "text": [
      "\n"
     ]
    }
   ],
   "source": [
    "# Store results for visualization\n",
    "visualization_results = []\n",
    "\n",
    "if config and model:\n",
    "    total_mse = 0\n",
    "    total_masked_tokens = 0\n",
    "    loss_fn = torch.nn.MSELoss(reduction='sum')\n",
    "    \n",
    "    # Get mask ratio from config\n",
    "    mask_ratio = config.get('training_params', {}).get('mask_ratio', 0.15)\n",
    "\n",
    "    with torch.no_grad():\n",
    "        pbar = tqdm(test_loader, desc=\"Evaluating on Test Set\")\n",
    "        for i, (batch, attention_mask) in enumerate(pbar):\n",
    "            batch = batch.to(device)\n",
    "            attention_mask = attention_mask.to(device)\n",
    "            \n",
    "            # --- Create a corrupted version of the input batch ---\n",
    "            corrupted_batch = batch.clone()\n",
    "            prob_mask = torch.rand(batch.shape[:2], device=device)\n",
    "            masking_condition = (prob_mask < mask_ratio) & (attention_mask == 1)\n",
    "            \n",
    "            num_masked = masking_condition.sum().item()\n",
    "            if num_masked == 0:\n",
    "                continue # Skip batches where no tokens are masked\n",
    "            \n",
    "            corrupted_batch[masking_condition] = 0.0\n",
    "\n",
    "            # --- Forward Pass ---\n",
    "            predictions = model(corrupted_batch, attention_mask)\n",
    "            \n",
    "            # --- Calculate Loss on Masked Tokens ---\n",
    "            loss = loss_fn(predictions[masking_condition], batch[masking_condition])\n",
    "            total_mse += loss.item()\n",
    "            total_masked_tokens += num_masked\n",
    "            \n",
    "            # --- Store a few examples for visualization ---\n",
    "            if i < 5: # Store first 5 batches for potential visualization\n",
    "                visualization_results.append({\n",
    "                    'original': batch.cpu().numpy(),\n",
    "                    'masked': corrupted_batch.cpu().numpy(),\n",
    "                    'predicted': predictions.cpu().numpy(),\n",
    "                    'mask': masking_condition.cpu().numpy(),\n",
    "                    'attention_mask': attention_mask.cpu().numpy()\n",
    "                })\n",
    "\n",
    "    # Calculate the final average MSE across all masked tokens\n",
    "    average_mse = total_mse / total_masked_tokens if total_masked_tokens > 0 else 0\n",
    "    print(f\"\\nEvaluation Complete.\")\n",
    "    print(f\"Average MSE on masked tokens in the test set: {average_mse:.6f}\")"
   ]
  },
  {
   "cell_type": "markdown",
   "id": "032fd387",
   "metadata": {},
   "source": [
    "### 5. Visualize Reconstruction Results\n",
    "A quantitative metric like MSE is useful, but a qualitative visualization can provide deeper insight into the model's behavior.\n",
    "\n",
    "The following function plots a single CPT profile, comparing the ground truth, the masked input, and the model's reconstruction. We will focus on the first two numerical features, which are typically `qc` and `fs`. The masked regions in the reconstruction plot are highlighted in red to show exactly where the model was tasked with predicting."
   ]
  },
  {
   "cell_type": "code",
   "execution_count": null,
   "id": "29ec3090",
   "metadata": {},
   "outputs": [
    {
     "data": {
      "application/vnd.plotly.v1+json": {
       "config": {
        "plotlyServerURL": "https://plot.ly"
       },
       "data": [
        {
         "line": {
          "color": "blue"
         },
         "mode": "lines",
         "name": "Original",
         "type": "scatter",
         "x": {
          "bdata": "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",
          "dtype": "f4"
         },
         "xaxis": "x",
         "y": {
          "bdata": "AAABAAIAAwAEAAUABgAHAAgACQAKAAsADAANAA4ADwAQABEAEgATABQAFQAWABcAGAAZABoAGwAcAB0AHgAfACAAIQAiACMAJAAlACYAJwAoACkAKgArACwALQAuAC8AMAAxADIAMwA0ADUANgA3ADgAOQA6ADsAPAA9AD4APwBAAEEAQgBDAEQARQBGAEcASABJAEoASwBMAE0ATgBPAFAAUQBSAFMAVABVAFYAVwBYAFkAWgBbAFwAXQBeAF8AYABhAGIAYwBkAGUAZgBnAGgAaQBqAGsAbABtAG4AbwBwAHEAcgBzAHQAdQB2AHcAeAB5AHoAewB8AH0AfgB/AIAAgQCCAIMAhACFAIYAhwCIAIkAigCLAIwAjQCOAI8AkACRAJIAkwCUAJUAlgCXAJgAmQCaAJsAnACdAJ4AnwCgAKEAogCjAKQApQCmAKcAqACpAKoAqwCsAK0ArgCvALAAsQCyALMAtAC1ALYAtwC4ALkAugC7ALwAvQC+AL8AwADBAMIAwwDEAMUAxgDHAMgAyQDKAMsAzADNAM4AzwDQANEA0gDTANQA1QDWANcA2ADZANoA2wDcAN0A3gDfAOAA4QDiAOMA5ADlAOYA5wDoAOkA6gDrAOwA7QDuAO8A8ADxAPIA8wD0APUA9gD3APgA+QD6APsA/AD9AP4A/wAAAQEBAgEDAQQBBQEGAQcBCAEJAQoBCwEMAQ0BDgEPARABEQESARMBFAEVARYBFwEYARkBGgEbARwBHQEeAR8BIAEhASIBIwEkASUBJgEnASgBKQEqASsBLAEtAS4BLwEwATEBMgEzATQBNQE2ATcBOAE5AToBOwE8AT0BPgE/AUABQQFCAUMBRAFFAUYBRwFIAUkBSgFLAUwBTQFOAU8BUAFRAVIBUwFUAVUBVgFXAVgBWQFaAVsBXAFdAV4BXwFgAWEBYgFjAWQBZQFmAWcBaAFpAWoBawFsAW0BbgFvAXABcQFyAXMBdAF1AXYBdwF4AXkBegF7AXwBfQF+AX8BgAGBAYIBgwGEAYUBhgGHAYgBiQGKAYsBjAGNAY4BjwGQAZEBkgGTAZQBlQGWAZcBmAGZAZoBmwGcAZ0BngGfAaABoQGiAaMBpAGlAaYBpwGoAakBqgGrAawBrQGuAa8BsAGxAbIBswG0AbUBtgG3AbgBuQG6AbsBvAG9Ab4BvwHAAcEBwgHDAcQBxQHGAccByAHJAcoBywHMAc0BzgHPAdAB0QHSAdMB1AHVAdYB1wHYAdkB2gHbAdwB3QHeAd8B4AHhAeIB4wHkAeUB5gHnAegB6QHqAesB7AHtAe4B7wHwAfEB8gHzAfQB9QH2AfcB+AH5AfoB+wH8Af0B/gH/AQACAQICAgMCBAIFAgYCBwIIAgkCCgILAgwCDQIOAg8CEAIRAhICEwIUAhUCFgIXAhgCGQIaAhsCHAIdAh4CHwIgAiECIgIjAiQCJQImAicCKAIpAioCKwIsAi0CLgIvAjACMQIyAjMCNAI1AjYCNwI4AjkCOgI7AjwCPQI+Aj8CQAJBAkICQwJEAkUCRgJHAkgCSQJKAksCTAJNAk4CTwJQAlECUgJTAlQCVQJWAlcCWAJZAloCWwJcAl0CXgJfAmACYQJiAmMCZAJlAmYCZwJoAmkCagJrAmwCbQJuAm8CcAJxAnICcwJ0AnUCdgJ3AngCeQJ6AnsCfAJ9An4CfwKAAoECggKDAoQChQKGAocCiAKJAooCiwKMAo0CjgKPApACkQKSApMClAKVApYClwKYApkCmgKbApwCnQKeAp8CoAKhAqICowKkAqUCpgKnAqgCqQKqAqsCrAKtAq4CrwKwArECsgKzArQCtQK2ArcCuAK5AroCuwK8Ar0CvgK/AsACwQLCAsMCxALFAsYCxwLIAskCygLLAswCzQLOAs8C0ALRAtIC0wLUAtUC1gLXAtgC2QLaAtsC3ALdAt4C3wLgAuEC",
          "dtype": "i2"
         },
         "yaxis": "y"
        },
        {
         "line": {
          "color": "green"
         },
         "mode": "lines",
         "name": "Reconstructed",
         "type": "scatter",
         "x": {
          "bdata": "////f////3////9/////f////3////9/////f////3////9/////f////3////9/////f////3////9/////f////3////9/////f////3////9/////f////3////9/////f////3////9/////f////3////9/////f////3////9/////f////3////9/////f////3////9/////f////3////9/////f////3////9/////f////3////9/////f////3////9/////f////3////9/////f////3////9/////f////3////9/////f////3////9/////f////3////9/////f////3////9/////f////3////9/////f////3////9/////f////3////9/////f////3////9/////f////3////9/////f////3////9/////f////3////9/////f////3////9/////f////3////9/////f////3////9/////f////3////9/////f////3////9/////f////3////9/////f////3////9/////f////3////9/////f////3////9/////f////3////9/////f////3////9/////f////3////9/////f////3////9/////f////3////9/////f////3////9/////f////3////9/////f////3////9/////f////3////9/////f////3////9/////f////3////9/////f////3////9/////f////3////9/////f////3////9/////f////3////9/////f////3////9/////f////3////9/////f////3////9/////f////3////9/////f////3////9/////f////3////9/////f////3////9/////f////3////9/////f////3////9/////f////3////9/////f////3////9/////f////3////9/////f////3////9/////f////3////9/////f////3////9/////f////3////9/////f////3////9/////f////3////9/////f////3////9/////f////3////9/////f////3////9/////f////3////9/////f////3////9/////f////3////9/////f////3////9/////f////3////9/////f////3////9/////f////3////9/////f////3////9/////f////3////9/////f////3////9/////f////3////9/////f////3////9/////f////3////9/////f////3////9/////f////3////9/////f////3////9/////f////3////9/////f////3////9/////f////3////9/////f////3////9/////f////3////9/////f////3////9/////f////3////9/////f////3////9/////f////3////9/////f////3////9/////f////3////9/////f////3////9/////f////3////9/////f////3////9/////f////3////9/////f////3////9/////f////3////9/////f////3////9/////f////3////9/////f////3////9/////f////3////9/////f////3////9/////f////3////9/////f////3////9/////f////3////9/////f////3////9/////f////3////9/////f////3////9/////f////3////9/////f////3////9/////f////3////9/////f////3////9/////f////3////9/////f////3////9/////f////3////9/////f////3////9/////f////3////9/////f////3////9/////f////3////9/////f////3////9/////f////3////9/////f////3////9/////f////3////9/////f////3////9/////f////3////9/////f////3////9/////f////3////9/////f////3////9/////f////3////9/////f////3////9/////f////3////9/////f////3////9/////f////3////9/////f////3////9/////f////3////9/////f////3////9/////f////3////9/////f////3////9/////f////3////9/////f////3////9/////f////3////9/////f////3////9/////f////3////9/////f////3////9/////f////3////9/////f////3////9/////f////3////9/////f////3////9/////f////3////9/////f////3////9/////f////3////9/////f////3////9/////f////3////9/////f////3////9/////f////3////9/////f////3////9/////f////3////9/////f////3////9/////f////3////9/////f////3////9/////f////3////9/////f////3////9/////f////3////9/////f////3////9/////f////3////9/////f////3////9/////f////3////9/////f////3////9/////f////3////9/////f////3////9/////f////3////9/////f////3////9/////f////3////9/////f////3////9/////f////3////9/////f////3////9/////f////3////9/////f////3////9/////f////3////9/////f////3////9/////f////3////9/////f////3////9/////f////3////9/////f////3////9/////f////3////9/////f////3////9/////f////3////9/////f////3////9/////f////3////9/////f////3////9/////f////3////9/////f////3////9/////f////3////9/////f////3////9/////f////3////9/////f////3////9/////f////3////9/////f////3////9/////f////3////9/////f////3////9/////f////3////9/////f////3////9/////f////3////9/////f////3////9/////f////3////9/////f////3////9/////f////3////9/////f////3////9/////f////3////9/////f////3////9/////f////3////9/////f////3////9/////f////3////9/////f////3////9/////f////3////9/////f////3////9/////f////3////9/////f////3////9/////f////3////9/////f////3////9/////f////3////9/////f////3////9/////f////3////9/////f////3////9/////f////3////9/////f////3////9/////f////3////9/////f////3////9/////f////3////9/////f////3////9/////f////3////9/////f////3////9/////f////3////9/////f////3////9/////f////3////9/",
          "dtype": "f4"
         },
         "xaxis": "x",
         "y": {
          "bdata": "AAABAAIAAwAEAAUABgAHAAgACQAKAAsADAANAA4ADwAQABEAEgATABQAFQAWABcAGAAZABoAGwAcAB0AHgAfACAAIQAiACMAJAAlACYAJwAoACkAKgArACwALQAuAC8AMAAxADIAMwA0ADUANgA3ADgAOQA6ADsAPAA9AD4APwBAAEEAQgBDAEQARQBGAEcASABJAEoASwBMAE0ATgBPAFAAUQBSAFMAVABVAFYAVwBYAFkAWgBbAFwAXQBeAF8AYABhAGIAYwBkAGUAZgBnAGgAaQBqAGsAbABtAG4AbwBwAHEAcgBzAHQAdQB2AHcAeAB5AHoAewB8AH0AfgB/AIAAgQCCAIMAhACFAIYAhwCIAIkAigCLAIwAjQCOAI8AkACRAJIAkwCUAJUAlgCXAJgAmQCaAJsAnACdAJ4AnwCgAKEAogCjAKQApQCmAKcAqACpAKoAqwCsAK0ArgCvALAAsQCyALMAtAC1ALYAtwC4ALkAugC7ALwAvQC+AL8AwADBAMIAwwDEAMUAxgDHAMgAyQDKAMsAzADNAM4AzwDQANEA0gDTANQA1QDWANcA2ADZANoA2wDcAN0A3gDfAOAA4QDiAOMA5ADlAOYA5wDoAOkA6gDrAOwA7QDuAO8A8ADxAPIA8wD0APUA9gD3APgA+QD6APsA/AD9AP4A/wAAAQEBAgEDAQQBBQEGAQcBCAEJAQoBCwEMAQ0BDgEPARABEQESARMBFAEVARYBFwEYARkBGgEbARwBHQEeAR8BIAEhASIBIwEkASUBJgEnASgBKQEqASsBLAEtAS4BLwEwATEBMgEzATQBNQE2ATcBOAE5AToBOwE8AT0BPgE/AUABQQFCAUMBRAFFAUYBRwFIAUkBSgFLAUwBTQFOAU8BUAFRAVIBUwFUAVUBVgFXAVgBWQFaAVsBXAFdAV4BXwFgAWEBYgFjAWQBZQFmAWcBaAFpAWoBawFsAW0BbgFvAXABcQFyAXMBdAF1AXYBdwF4AXkBegF7AXwBfQF+AX8BgAGBAYIBgwGEAYUBhgGHAYgBiQGKAYsBjAGNAY4BjwGQAZEBkgGTAZQBlQGWAZcBmAGZAZoBmwGcAZ0BngGfAaABoQGiAaMBpAGlAaYBpwGoAakBqgGrAawBrQGuAa8BsAGxAbIBswG0AbUBtgG3AbgBuQG6AbsBvAG9Ab4BvwHAAcEBwgHDAcQBxQHGAccByAHJAcoBywHMAc0BzgHPAdAB0QHSAdMB1AHVAdYB1wHYAdkB2gHbAdwB3QHeAd8B4AHhAeIB4wHkAeUB5gHnAegB6QHqAesB7AHtAe4B7wHwAfEB8gHzAfQB9QH2AfcB+AH5AfoB+wH8Af0B/gH/AQACAQICAgMCBAIFAgYCBwIIAgkCCgILAgwCDQIOAg8CEAIRAhICEwIUAhUCFgIXAhgCGQIaAhsCHAIdAh4CHwIgAiECIgIjAiQCJQImAicCKAIpAioCKwIsAi0CLgIvAjACMQIyAjMCNAI1AjYCNwI4AjkCOgI7AjwCPQI+Aj8CQAJBAkICQwJEAkUCRgJHAkgCSQJKAksCTAJNAk4CTwJQAlECUgJTAlQCVQJWAlcCWAJZAloCWwJcAl0CXgJfAmACYQJiAmMCZAJlAmYCZwJoAmkCagJrAmwCbQJuAm8CcAJxAnICcwJ0AnUCdgJ3AngCeQJ6AnsCfAJ9An4CfwKAAoECggKDAoQChQKGAocCiAKJAooCiwKMAo0CjgKPApACkQKSApMClAKVApYClwKYApkCmgKbApwCnQKeAp8CoAKhAqICowKkAqUCpgKnAqgCqQKqAqsCrAKtAq4CrwKwArECsgKzArQCtQK2ArcCuAK5AroCuwK8Ar0CvgK/AsACwQLCAsMCxALFAsYCxwLIAskCygLLAswCzQLOAs8C0ALRAtIC0wLUAtUC1gLXAtgC2QLaAtsC3ALdAt4C3wLgAuEC",
          "dtype": "i2"
         },
         "yaxis": "y"
        },
        {
         "marker": {
          "color": "red",
          "size": 6,
          "symbol": "x"
         },
         "mode": "markers",
         "name": "Ground Truth (Masked)",
         "type": "scatter",
         "x": {
          "bdata": "/H9oRALAikT8/3REBABcRASAbUQEgG1EBIBtRASAbUQCgIlEAgCCRAKAokT+/59EAEDERABAxEQAAMhEAIDKRABAyUQAAMhEAMDuRAAgAEUAQANFAKAHRQEgBUUAYCRFAOAcRQAAB0UAYAZFAIAJRQAAFkUAoBZFACAPRQAADEUAwA9FAOASRQDgEkUA4BJFAgC0RALArUQCwKNE/n+sRAAA10QAANdEAADXRAAA0kQAwLdEAAC5RAAAw0QCQLBEAgCqRAJAq0T+P7VEAMD4RABgAUUAQANFAMC3RADAt0T+P7VEAsDGRABAzkQAwMtEAEDORAAA0kQAQM5EAEDORACAz0QAQM5EAADSRABAzkQAANxEAADmRACA40QAANxEAADXRAAA8EQAgPJEAMAKRQAgFEUAwO5EAED2RACAxUQAQLpE/j+1RP4/tUQAQM5EAIDPRABA00QAALlEAMC8RABA2EQAANdEAIDURP4/oUT+v6hEAoCxRP6/qEQCAKpEAkCrRP4/tUQAQLpEAMC3RADAvEQAwLxEAMDLRAAA10QAoDRFACA8RQAAEUUAYBBFAGAQRQDgHEUAgHJFACCKRQAA10UAYMxFAADNRQAw7UUA+ARGAFgiRgDAMkYAcCNH",
          "dtype": "f4"
         },
         "xaxis": "x",
         "y": {
          "bdata": "CwAPABEAFAAlACYAKAAwADsAQABOAFQAYQBkAGYAaQBtAHIAfAB/AIAAgwCKAJgAoACtAK8AswC5ALsAvgDAAM4A0QDSANMA8ADzAPoA/AATARUBJQEpATgBPwFCAUwBUAFRAVQBWAFaAVwBawF2AX4BgwGKAZEBkgGTAZYBmQGdAaEBowGnAakBsAGxAbMBuwHBAc8B0gHVAeQB5QHwAfMB9gH3AQECBQIIAh8CIAIiAiMCJQIyAjoCRwJiAmUCZgJ1AnwCgAKHAosCkgKYAqcCqAK4AroCwALBAscCygLNAtUC1gLZAtoC3QLeAuEC",
          "dtype": "i2"
         },
         "yaxis": "y"
        },
        {
         "line": {
          "color": "blue"
         },
         "mode": "lines",
         "name": "Original",
         "type": "scatter",
         "x": {
          "bdata": "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",
          "dtype": "f4"
         },
         "xaxis": "x2",
         "y": {
          "bdata": "AAABAAIAAwAEAAUABgAHAAgACQAKAAsADAANAA4ADwAQABEAEgATABQAFQAWABcAGAAZABoAGwAcAB0AHgAfACAAIQAiACMAJAAlACYAJwAoACkAKgArACwALQAuAC8AMAAxADIAMwA0ADUANgA3ADgAOQA6ADsAPAA9AD4APwBAAEEAQgBDAEQARQBGAEcASABJAEoASwBMAE0ATgBPAFAAUQBSAFMAVABVAFYAVwBYAFkAWgBbAFwAXQBeAF8AYABhAGIAYwBkAGUAZgBnAGgAaQBqAGsAbABtAG4AbwBwAHEAcgBzAHQAdQB2AHcAeAB5AHoAewB8AH0AfgB/AIAAgQCCAIMAhACFAIYAhwCIAIkAigCLAIwAjQCOAI8AkACRAJIAkwCUAJUAlgCXAJgAmQCaAJsAnACdAJ4AnwCgAKEAogCjAKQApQCmAKcAqACpAKoAqwCsAK0ArgCvALAAsQCyALMAtAC1ALYAtwC4ALkAugC7ALwAvQC+AL8AwADBAMIAwwDEAMUAxgDHAMgAyQDKAMsAzADNAM4AzwDQANEA0gDTANQA1QDWANcA2ADZANoA2wDcAN0A3gDfAOAA4QDiAOMA5ADlAOYA5wDoAOkA6gDrAOwA7QDuAO8A8ADxAPIA8wD0APUA9gD3APgA+QD6APsA/AD9AP4A/wAAAQEBAgEDAQQBBQEGAQcBCAEJAQoBCwEMAQ0BDgEPARABEQESARMBFAEVARYBFwEYARkBGgEbARwBHQEeAR8BIAEhASIBIwEkASUBJgEnASgBKQEqASsBLAEtAS4BLwEwATEBMgEzATQBNQE2ATcBOAE5AToBOwE8AT0BPgE/AUABQQFCAUMBRAFFAUYBRwFIAUkBSgFLAUwBTQFOAU8BUAFRAVIBUwFUAVUBVgFXAVgBWQFaAVsBXAFdAV4BXwFgAWEBYgFjAWQBZQFmAWcBaAFpAWoBawFsAW0BbgFvAXABcQFyAXMBdAF1AXYBdwF4AXkBegF7AXwBfQF+AX8BgAGBAYIBgwGEAYUBhgGHAYgBiQGKAYsBjAGNAY4BjwGQAZEBkgGTAZQBlQGWAZcBmAGZAZoBmwGcAZ0BngGfAaABoQGiAaMBpAGlAaYBpwGoAakBqgGrAawBrQGuAa8BsAGxAbIBswG0AbUBtgG3AbgBuQG6AbsBvAG9Ab4BvwHAAcEBwgHDAcQBxQHGAccByAHJAcoBywHMAc0BzgHPAdAB0QHSAdMB1AHVAdYB1wHYAdkB2gHbAdwB3QHeAd8B4AHhAeIB4wHkAeUB5gHnAegB6QHqAesB7AHtAe4B7wHwAfEB8gHzAfQB9QH2AfcB+AH5AfoB+wH8Af0B/gH/AQACAQICAgMCBAIFAgYCBwIIAgkCCgILAgwCDQIOAg8CEAIRAhICEwIUAhUCFgIXAhgCGQIaAhsCHAIdAh4CHwIgAiECIgIjAiQCJQImAicCKAIpAioCKwIsAi0CLgIvAjACMQIyAjMCNAI1AjYCNwI4AjkCOgI7AjwCPQI+Aj8CQAJBAkICQwJEAkUCRgJHAkgCSQJKAksCTAJNAk4CTwJQAlECUgJTAlQCVQJWAlcCWAJZAloCWwJcAl0CXgJfAmACYQJiAmMCZAJlAmYCZwJoAmkCagJrAmwCbQJuAm8CcAJxAnICcwJ0AnUCdgJ3AngCeQJ6AnsCfAJ9An4CfwKAAoECggKDAoQChQKGAocCiAKJAooCiwKMAo0CjgKPApACkQKSApMClAKVApYClwKYApkCmgKbApwCnQKeAp8CoAKhAqICowKkAqUCpgKnAqgCqQKqAqsCrAKtAq4CrwKwArECsgKzArQCtQK2ArcCuAK5AroCuwK8Ar0CvgK/AsACwQLCAsMCxALFAsYCxwLIAskCygLLAswCzQLOAs8C0ALRAtIC0wLUAtUC1gLXAtgC2QLaAtsC3ALdAt4C3wLgAuEC",
          "dtype": "i2"
         },
         "yaxis": "y2"
        },
        {
         "line": {
          "color": "green"
         },
         "mode": "lines",
         "name": "Reconstructed",
         "type": "scatter",
         "x": {
          "bdata": "////f////3////9/////f////3////9/////f////3////9/////f////3////9/////f////3////9/////f////3////9/////f////3////9/////f////3////9/////f////3////9/////f////3////9/////f////3////9/////f////3////9/////f////3////9/////f////3////9/////f////3////9/////f////3////9/////f////3////9/////f////3////9/////f////3////9/////f////3////9/////f////3////9/////f////3////9/////f////3////9/////f////3////9/////f////3////9/////f////3////9/////f////3////9/////f////3////9/////f////3////9/////f////3////9/////f////3////9/////f////3////9/////f////3////9/////f////3////9/////f////3////9/////f////3////9/////f////3////9/////f////3////9/////f////3////9/////f////3////9/////f////3////9/////f////3////9/////f////3////9/////f////3////9/////f////3////9/////f////3////9/////f////3////9/////f////3////9/////f////3////9/////f////3////9/////f////3////9/////f////3////9/////f////3////9/////f////3////9/////f////3////9/////f////3////9/////f////3////9/////f////3////9/////f////3////9/////f////3////9/////f////3////9/////f////3////9/////f////3////9/////f////3////9/////f////3////9/////f////3////9/////f////3////9/////f////3////9/////f////3////9/////f////3////9/////f////3////9/////f////3////9/////f////3////9/////f////3////9/////f////3////9/////f////3////9/////f////3////9/////f////3////9/////f////3////9/////f////3////9/////f////3////9/////f////3////9/////f////3////9/////f////3////9/////f////3////9/////f////3////9/////f////3////9/////f////3////9/////f////3////9/////f////3////9/////f////3////9/////f////3////9/////f////3////9/////f////3////9/////f////3////9/////f////3////9/////f////3////9/////f////3////9/////f////3////9/////f////3////9/////f////3////9/////f////3////9/////f////3////9/////f////3////9/////f////3////9/////f////3////9/////f////3////9/////f////3////9/////f////3////9/////f////3////9/////f////3////9/////f////3////9/////f////3////9/////f////3////9/////f////3////9/////f////3////9/////f////3////9/////f////3////9/////f////3////9/////f////3////9/////f////3////9/////f////3////9/////f////3////9/////f////3////9/////f////3////9/////f////3////9/////f////3////9/////f////3////9/////f////3////9/////f////3////9/////f////3////9/////f////3////9/////f////3////9/////f////3////9/////f////3////9/////f////3////9/////f////3////9/////f////3////9/////f////3////9/////f////3////9/////f////3////9/////f////3////9/////f////3////9/////f////3////9/////f////3////9/////f////3////9/////f////3////9/////f////3////9/////f////3////9/////f////3////9/////f////3////9/////f////3////9/////f////3////9/////f////3////9/////f////3////9/////f////3////9/////f////3////9/////f////3////9/////f////3////9/////f////3////9/////f////3////9/////f////3////9/////f////3////9/////f////3////9/////f////3////9/////f////3////9/////f////3////9/////f////3////9/////f////3////9/////f////3////9/////f////3////9/////f////3////9/////f////3////9/////f////3////9/////f////3////9/////f////3////9/////f////3////9/////f////3////9/////f////3////9/////f////3////9/////f////3////9/////f////3////9/////f////3////9/////f////3////9/////f////3////9/////f////3////9/////f////3////9/////f////3////9/////f////3////9/////f////3////9/////f////3////9/////f////3////9/////f////3////9/////f////3////9/////f////3////9/////f////3////9/////f////3////9/////f////3////9/////f////3////9/////f////3////9/////f////3////9/////f////3////9/////f////3////9/////f////3////9/////f////3////9/////f////3////9/////f////3////9/////f////3////9/////f////3////9/////f////3////9/////f////3////9/////f////3////9/////f////3////9/////f////3////9/////f////3////9/////f////3////9/////f////3////9/////f////3////9/////f////3////9/////f////3////9/////f////3////9/////f////3////9/////f////3////9/////f////3////9/////f////3////9/////f////3////9/////f////3////9/////f////3////9/////f////3////9/////f////3////9/////f////3////9/////f////3////9/////f////3////9/////f////3////9/////f////3////9/////f////3////9/////f////3////9/////f////3////9/////f////3////9/////f////3////9/////f////3////9/////f////3////9/////f////3////9/////f////3////9/////f////3////9/////f////3////9/",
          "dtype": "f4"
         },
         "xaxis": "x2",
         "y": {
          "bdata": "AAABAAIAAwAEAAUABgAHAAgACQAKAAsADAANAA4ADwAQABEAEgATABQAFQAWABcAGAAZABoAGwAcAB0AHgAfACAAIQAiACMAJAAlACYAJwAoACkAKgArACwALQAuAC8AMAAxADIAMwA0ADUANgA3ADgAOQA6ADsAPAA9AD4APwBAAEEAQgBDAEQARQBGAEcASABJAEoASwBMAE0ATgBPAFAAUQBSAFMAVABVAFYAVwBYAFkAWgBbAFwAXQBeAF8AYABhAGIAYwBkAGUAZgBnAGgAaQBqAGsAbABtAG4AbwBwAHEAcgBzAHQAdQB2AHcAeAB5AHoAewB8AH0AfgB/AIAAgQCCAIMAhACFAIYAhwCIAIkAigCLAIwAjQCOAI8AkACRAJIAkwCUAJUAlgCXAJgAmQCaAJsAnACdAJ4AnwCgAKEAogCjAKQApQCmAKcAqACpAKoAqwCsAK0ArgCvALAAsQCyALMAtAC1ALYAtwC4ALkAugC7ALwAvQC+AL8AwADBAMIAwwDEAMUAxgDHAMgAyQDKAMsAzADNAM4AzwDQANEA0gDTANQA1QDWANcA2ADZANoA2wDcAN0A3gDfAOAA4QDiAOMA5ADlAOYA5wDoAOkA6gDrAOwA7QDuAO8A8ADxAPIA8wD0APUA9gD3APgA+QD6APsA/AD9AP4A/wAAAQEBAgEDAQQBBQEGAQcBCAEJAQoBCwEMAQ0BDgEPARABEQESARMBFAEVARYBFwEYARkBGgEbARwBHQEeAR8BIAEhASIBIwEkASUBJgEnASgBKQEqASsBLAEtAS4BLwEwATEBMgEzATQBNQE2ATcBOAE5AToBOwE8AT0BPgE/AUABQQFCAUMBRAFFAUYBRwFIAUkBSgFLAUwBTQFOAU8BUAFRAVIBUwFUAVUBVgFXAVgBWQFaAVsBXAFdAV4BXwFgAWEBYgFjAWQBZQFmAWcBaAFpAWoBawFsAW0BbgFvAXABcQFyAXMBdAF1AXYBdwF4AXkBegF7AXwBfQF+AX8BgAGBAYIBgwGEAYUBhgGHAYgBiQGKAYsBjAGNAY4BjwGQAZEBkgGTAZQBlQGWAZcBmAGZAZoBmwGcAZ0BngGfAaABoQGiAaMBpAGlAaYBpwGoAakBqgGrAawBrQGuAa8BsAGxAbIBswG0AbUBtgG3AbgBuQG6AbsBvAG9Ab4BvwHAAcEBwgHDAcQBxQHGAccByAHJAcoBywHMAc0BzgHPAdAB0QHSAdMB1AHVAdYB1wHYAdkB2gHbAdwB3QHeAd8B4AHhAeIB4wHkAeUB5gHnAegB6QHqAesB7AHtAe4B7wHwAfEB8gHzAfQB9QH2AfcB+AH5AfoB+wH8Af0B/gH/AQACAQICAgMCBAIFAgYCBwIIAgkCCgILAgwCDQIOAg8CEAIRAhICEwIUAhUCFgIXAhgCGQIaAhsCHAIdAh4CHwIgAiECIgIjAiQCJQImAicCKAIpAioCKwIsAi0CLgIvAjACMQIyAjMCNAI1AjYCNwI4AjkCOgI7AjwCPQI+Aj8CQAJBAkICQwJEAkUCRgJHAkgCSQJKAksCTAJNAk4CTwJQAlECUgJTAlQCVQJWAlcCWAJZAloCWwJcAl0CXgJfAmACYQJiAmMCZAJlAmYCZwJoAmkCagJrAmwCbQJuAm8CcAJxAnICcwJ0AnUCdgJ3AngCeQJ6AnsCfAJ9An4CfwKAAoECggKDAoQChQKGAocCiAKJAooCiwKMAo0CjgKPApACkQKSApMClAKVApYClwKYApkCmgKbApwCnQKeAp8CoAKhAqICowKkAqUCpgKnAqgCqQKqAqsCrAKtAq4CrwKwArECsgKzArQCtQK2ArcCuAK5AroCuwK8Ar0CvgK/AsACwQLCAsMCxALFAsYCxwLIAskCygLLAswCzQLOAs8C0ALRAtIC0wLUAtUC1gLXAtgC2QLaAtsC3ALdAt4C3wLgAuEC",
          "dtype": "i2"
         },
         "yaxis": "y2"
        },
        {
         "marker": {
          "color": "red",
          "size": 6,
          "symbol": "x"
         },
         "mode": "markers",
         "name": "Ground Truth (Masked)",
         "type": "scatter",
         "x": {
          "bdata": "AAAgQQAA8EEAAARCZ2YeQpqZK0KamStCmpklQmZmMEKamXtCzcx8QmdmUEIzM1dCmpmKQgAAjULNzIxCMzOMQmZmjUKamZxCZmabQpqZqUIzM7FCZ2a2QgAAxkLNTAhDZ+YUQwCABEMAAPhCzcznQjQz6kJnZvtCZ2YDQ2ZmAUPNzM9CmpnbQjMz3EKamdxCmpmZQmZmUkIAADRCmpkzQmZmdEIzM3dCZmZ4QmZmdELNzGpCMzN1QmZmbkKamXlCMzN3QjMzd0IzM3lCmpmMQpqZokKamcNCmpnTQjMzokLNzI5CmpmWQjMzqEIAAKdCZmakQgAAm0IAAJpCzcyYQgAAkUKamZFCZmaRQpqZkEKamY9CmpmRQpqZj0LNzIxCZmaDQs3MjEIAAJpCAACbQgAAt0JmZqZCZmakQmZmh0IzM2dCMzNlQgAAZkKamVtCzcxcQs3MbEKamXdCMzN3QmZmdkJmZnZCzcx2QjMzK0KamT1Cmpk9QjMzSUIzM0lCmplJQs3MeEJmZm5CMzNxQjMzfUIzM4FCAACLQs3MlEJnZtRCmpnaQs1MDkPNzP1CM7MIQ83MCUNn5hZDzUwbQ81MakOa2a1DZ+arQ87MOsIQPDMyEDwzMhA8MzIQPDMy",
          "dtype": "f4"
         },
         "xaxis": "x2",
         "y": {
          "bdata": "CwAPABEAFAAlACYAKAAwADsAQABOAFQAYQBkAGYAaQBtAHIAfAB/AIAAgwCKAJgAoACtAK8AswC5ALsAvgDAAM4A0QDSANMA8ADzAPoA/AATARUBJQEpATgBPwFCAUwBUAFRAVQBWAFaAVwBawF2AX4BgwGKAZEBkgGTAZYBmQGdAaEBowGnAakBsAGxAbMBuwHBAc8B0gHVAeQB5QHwAfMB9gH3AQECBQIIAh8CIAIiAiMCJQIyAjoCRwJiAmUCZgJ1AnwCgAKHAosCkgKYAqcCqAK4AroCwALBAscCygLNAtUC1gLZAtoC3QLeAuEC",
          "dtype": "i2"
         },
         "yaxis": "y2"
        }
       ],
       "layout": {
        "annotations": [
         {
          "font": {
           "size": 16
          },
          "showarrow": false,
          "text": "Feature: qc (Unscaled)",
          "x": 0.225,
          "xanchor": "center",
          "xref": "paper",
          "y": 1,
          "yanchor": "bottom",
          "yref": "paper"
         },
         {
          "font": {
           "size": 16
          },
          "showarrow": false,
          "text": "Feature: fs (Unscaled)",
          "x": 0.775,
          "xanchor": "center",
          "xref": "paper",
          "y": 1,
          "yanchor": "bottom",
          "yref": "paper"
         }
        ],
        "height": 600,
        "template": {
         "data": {
          "bar": [
           {
            "error_x": {
             "color": "#2a3f5f"
            },
            "error_y": {
             "color": "#2a3f5f"
            },
            "marker": {
             "line": {
              "color": "#E5ECF6",
              "width": 0.5
             },
             "pattern": {
              "fillmode": "overlay",
              "size": 10,
              "solidity": 0.2
             }
            },
            "type": "bar"
           }
          ],
          "barpolar": [
           {
            "marker": {
             "line": {
              "color": "#E5ECF6",
              "width": 0.5
             },
             "pattern": {
              "fillmode": "overlay",
              "size": 10,
              "solidity": 0.2
             }
            },
            "type": "barpolar"
           }
          ],
          "carpet": [
           {
            "aaxis": {
             "endlinecolor": "#2a3f5f",
             "gridcolor": "white",
             "linecolor": "white",
             "minorgridcolor": "white",
             "startlinecolor": "#2a3f5f"
            },
            "baxis": {
             "endlinecolor": "#2a3f5f",
             "gridcolor": "white",
             "linecolor": "white",
             "minorgridcolor": "white",
             "startlinecolor": "#2a3f5f"
            },
            "type": "carpet"
           }
          ],
          "choropleth": [
           {
            "colorbar": {
             "outlinewidth": 0,
             "ticks": ""
            },
            "type": "choropleth"
           }
          ],
          "contour": [
           {
            "colorbar": {
             "outlinewidth": 0,
             "ticks": ""
            },
            "colorscale": [
             [
              0,
              "#0d0887"
             ],
             [
              0.1111111111111111,
              "#46039f"
             ],
             [
              0.2222222222222222,
              "#7201a8"
             ],
             [
              0.3333333333333333,
              "#9c179e"
             ],
             [
              0.4444444444444444,
              "#bd3786"
             ],
             [
              0.5555555555555556,
              "#d8576b"
             ],
             [
              0.6666666666666666,
              "#ed7953"
             ],
             [
              0.7777777777777778,
              "#fb9f3a"
             ],
             [
              0.8888888888888888,
              "#fdca26"
             ],
             [
              1,
              "#f0f921"
             ]
            ],
            "type": "contour"
           }
          ],
          "contourcarpet": [
           {
            "colorbar": {
             "outlinewidth": 0,
             "ticks": ""
            },
            "type": "contourcarpet"
           }
          ],
          "heatmap": [
           {
            "colorbar": {
             "outlinewidth": 0,
             "ticks": ""
            },
            "colorscale": [
             [
              0,
              "#0d0887"
             ],
             [
              0.1111111111111111,
              "#46039f"
             ],
             [
              0.2222222222222222,
              "#7201a8"
             ],
             [
              0.3333333333333333,
              "#9c179e"
             ],
             [
              0.4444444444444444,
              "#bd3786"
             ],
             [
              0.5555555555555556,
              "#d8576b"
             ],
             [
              0.6666666666666666,
              "#ed7953"
             ],
             [
              0.7777777777777778,
              "#fb9f3a"
             ],
             [
              0.8888888888888888,
              "#fdca26"
             ],
             [
              1,
              "#f0f921"
             ]
            ],
            "type": "heatmap"
           }
          ],
          "histogram": [
           {
            "marker": {
             "pattern": {
              "fillmode": "overlay",
              "size": 10,
              "solidity": 0.2
             }
            },
            "type": "histogram"
           }
          ],
          "histogram2d": [
           {
            "colorbar": {
             "outlinewidth": 0,
             "ticks": ""
            },
            "colorscale": [
             [
              0,
              "#0d0887"
             ],
             [
              0.1111111111111111,
              "#46039f"
             ],
             [
              0.2222222222222222,
              "#7201a8"
             ],
             [
              0.3333333333333333,
              "#9c179e"
             ],
             [
              0.4444444444444444,
              "#bd3786"
             ],
             [
              0.5555555555555556,
              "#d8576b"
             ],
             [
              0.6666666666666666,
              "#ed7953"
             ],
             [
              0.7777777777777778,
              "#fb9f3a"
             ],
             [
              0.8888888888888888,
              "#fdca26"
             ],
             [
              1,
              "#f0f921"
             ]
            ],
            "type": "histogram2d"
           }
          ],
          "histogram2dcontour": [
           {
            "colorbar": {
             "outlinewidth": 0,
             "ticks": ""
            },
            "colorscale": [
             [
              0,
              "#0d0887"
             ],
             [
              0.1111111111111111,
              "#46039f"
             ],
             [
              0.2222222222222222,
              "#7201a8"
             ],
             [
              0.3333333333333333,
              "#9c179e"
             ],
             [
              0.4444444444444444,
              "#bd3786"
             ],
             [
              0.5555555555555556,
              "#d8576b"
             ],
             [
              0.6666666666666666,
              "#ed7953"
             ],
             [
              0.7777777777777778,
              "#fb9f3a"
             ],
             [
              0.8888888888888888,
              "#fdca26"
             ],
             [
              1,
              "#f0f921"
             ]
            ],
            "type": "histogram2dcontour"
           }
          ],
          "mesh3d": [
           {
            "colorbar": {
             "outlinewidth": 0,
             "ticks": ""
            },
            "type": "mesh3d"
           }
          ],
          "parcoords": [
           {
            "line": {
             "colorbar": {
              "outlinewidth": 0,
              "ticks": ""
             }
            },
            "type": "parcoords"
           }
          ],
          "pie": [
           {
            "automargin": true,
            "type": "pie"
           }
          ],
          "scatter": [
           {
            "fillpattern": {
             "fillmode": "overlay",
             "size": 10,
             "solidity": 0.2
            },
            "type": "scatter"
           }
          ],
          "scatter3d": [
           {
            "line": {
             "colorbar": {
              "outlinewidth": 0,
              "ticks": ""
             }
            },
            "marker": {
             "colorbar": {
              "outlinewidth": 0,
              "ticks": ""
             }
            },
            "type": "scatter3d"
           }
          ],
          "scattercarpet": [
           {
            "marker": {
             "colorbar": {
              "outlinewidth": 0,
              "ticks": ""
             }
            },
            "type": "scattercarpet"
           }
          ],
          "scattergeo": [
           {
            "marker": {
             "colorbar": {
              "outlinewidth": 0,
              "ticks": ""
             }
            },
            "type": "scattergeo"
           }
          ],
          "scattergl": [
           {
            "marker": {
             "colorbar": {
              "outlinewidth": 0,
              "ticks": ""
             }
            },
            "type": "scattergl"
           }
          ],
          "scattermap": [
           {
            "marker": {
             "colorbar": {
              "outlinewidth": 0,
              "ticks": ""
             }
            },
            "type": "scattermap"
           }
          ],
          "scattermapbox": [
           {
            "marker": {
             "colorbar": {
              "outlinewidth": 0,
              "ticks": ""
             }
            },
            "type": "scattermapbox"
           }
          ],
          "scatterpolar": [
           {
            "marker": {
             "colorbar": {
              "outlinewidth": 0,
              "ticks": ""
             }
            },
            "type": "scatterpolar"
           }
          ],
          "scatterpolargl": [
           {
            "marker": {
             "colorbar": {
              "outlinewidth": 0,
              "ticks": ""
             }
            },
            "type": "scatterpolargl"
           }
          ],
          "scatterternary": [
           {
            "marker": {
             "colorbar": {
              "outlinewidth": 0,
              "ticks": ""
             }
            },
            "type": "scatterternary"
           }
          ],
          "surface": [
           {
            "colorbar": {
             "outlinewidth": 0,
             "ticks": ""
            },
            "colorscale": [
             [
              0,
              "#0d0887"
             ],
             [
              0.1111111111111111,
              "#46039f"
             ],
             [
              0.2222222222222222,
              "#7201a8"
             ],
             [
              0.3333333333333333,
              "#9c179e"
             ],
             [
              0.4444444444444444,
              "#bd3786"
             ],
             [
              0.5555555555555556,
              "#d8576b"
             ],
             [
              0.6666666666666666,
              "#ed7953"
             ],
             [
              0.7777777777777778,
              "#fb9f3a"
             ],
             [
              0.8888888888888888,
              "#fdca26"
             ],
             [
              1,
              "#f0f921"
             ]
            ],
            "type": "surface"
           }
          ],
          "table": [
           {
            "cells": {
             "fill": {
              "color": "#EBF0F8"
             },
             "line": {
              "color": "white"
             }
            },
            "header": {
             "fill": {
              "color": "#C8D4E3"
             },
             "line": {
              "color": "white"
             }
            },
            "type": "table"
           }
          ]
         },
         "layout": {
          "annotationdefaults": {
           "arrowcolor": "#2a3f5f",
           "arrowhead": 0,
           "arrowwidth": 1
          },
          "autotypenumbers": "strict",
          "coloraxis": {
           "colorbar": {
            "outlinewidth": 0,
            "ticks": ""
           }
          },
          "colorscale": {
           "diverging": [
            [
             0,
             "#8e0152"
            ],
            [
             0.1,
             "#c51b7d"
            ],
            [
             0.2,
             "#de77ae"
            ],
            [
             0.3,
             "#f1b6da"
            ],
            [
             0.4,
             "#fde0ef"
            ],
            [
             0.5,
             "#f7f7f7"
            ],
            [
             0.6,
             "#e6f5d0"
            ],
            [
             0.7,
             "#b8e186"
            ],
            [
             0.8,
             "#7fbc41"
            ],
            [
             0.9,
             "#4d9221"
            ],
            [
             1,
             "#276419"
            ]
           ],
           "sequential": [
            [
             0,
             "#0d0887"
            ],
            [
             0.1111111111111111,
             "#46039f"
            ],
            [
             0.2222222222222222,
             "#7201a8"
            ],
            [
             0.3333333333333333,
             "#9c179e"
            ],
            [
             0.4444444444444444,
             "#bd3786"
            ],
            [
             0.5555555555555556,
             "#d8576b"
            ],
            [
             0.6666666666666666,
             "#ed7953"
            ],
            [
             0.7777777777777778,
             "#fb9f3a"
            ],
            [
             0.8888888888888888,
             "#fdca26"
            ],
            [
             1,
             "#f0f921"
            ]
           ],
           "sequentialminus": [
            [
             0,
             "#0d0887"
            ],
            [
             0.1111111111111111,
             "#46039f"
            ],
            [
             0.2222222222222222,
             "#7201a8"
            ],
            [
             0.3333333333333333,
             "#9c179e"
            ],
            [
             0.4444444444444444,
             "#bd3786"
            ],
            [
             0.5555555555555556,
             "#d8576b"
            ],
            [
             0.6666666666666666,
             "#ed7953"
            ],
            [
             0.7777777777777778,
             "#fb9f3a"
            ],
            [
             0.8888888888888888,
             "#fdca26"
            ],
            [
             1,
             "#f0f921"
            ]
           ]
          },
          "colorway": [
           "#636efa",
           "#EF553B",
           "#00cc96",
           "#ab63fa",
           "#FFA15A",
           "#19d3f3",
           "#FF6692",
           "#B6E880",
           "#FF97FF",
           "#FECB52"
          ],
          "font": {
           "color": "#2a3f5f"
          },
          "geo": {
           "bgcolor": "white",
           "lakecolor": "white",
           "landcolor": "#E5ECF6",
           "showlakes": true,
           "showland": true,
           "subunitcolor": "white"
          },
          "hoverlabel": {
           "align": "left"
          },
          "hovermode": "closest",
          "mapbox": {
           "style": "light"
          },
          "paper_bgcolor": "white",
          "plot_bgcolor": "#E5ECF6",
          "polar": {
           "angularaxis": {
            "gridcolor": "white",
            "linecolor": "white",
            "ticks": ""
           },
           "bgcolor": "#E5ECF6",
           "radialaxis": {
            "gridcolor": "white",
            "linecolor": "white",
            "ticks": ""
           }
          },
          "scene": {
           "xaxis": {
            "backgroundcolor": "#E5ECF6",
            "gridcolor": "white",
            "gridwidth": 2,
            "linecolor": "white",
            "showbackground": true,
            "ticks": "",
            "zerolinecolor": "white"
           },
           "yaxis": {
            "backgroundcolor": "#E5ECF6",
            "gridcolor": "white",
            "gridwidth": 2,
            "linecolor": "white",
            "showbackground": true,
            "ticks": "",
            "zerolinecolor": "white"
           },
           "zaxis": {
            "backgroundcolor": "#E5ECF6",
            "gridcolor": "white",
            "gridwidth": 2,
            "linecolor": "white",
            "showbackground": true,
            "ticks": "",
            "zerolinecolor": "white"
           }
          },
          "shapedefaults": {
           "line": {
            "color": "#2a3f5f"
           }
          },
          "ternary": {
           "aaxis": {
            "gridcolor": "white",
            "linecolor": "white",
            "ticks": ""
           },
           "baxis": {
            "gridcolor": "white",
            "linecolor": "white",
            "ticks": ""
           },
           "bgcolor": "#E5ECF6",
           "caxis": {
            "gridcolor": "white",
            "linecolor": "white",
            "ticks": ""
           }
          },
          "title": {
           "x": 0.05
          },
          "xaxis": {
           "automargin": true,
           "gridcolor": "white",
           "linecolor": "white",
           "ticks": "",
           "title": {
            "standoff": 15
           },
           "zerolinecolor": "white",
           "zerolinewidth": 2
          },
          "yaxis": {
           "automargin": true,
           "gridcolor": "white",
           "linecolor": "white",
           "ticks": "",
           "title": {
            "standoff": 15
           },
           "zerolinecolor": "white",
           "zerolinewidth": 2
          }
         }
        },
        "title": {
         "text": "Model Reconstruction vs. Original Data (Unscaled)"
        },
        "width": 900,
        "xaxis": {
         "anchor": "y",
         "domain": [
          0,
          0.45
         ]
        },
        "xaxis2": {
         "anchor": "y2",
         "domain": [
          0.55,
          1
         ]
        },
        "yaxis": {
         "anchor": "x",
         "autorange": "reversed",
         "domain": [
          0,
          1
         ],
         "title": {
          "text": "Depth Index"
         }
        },
        "yaxis2": {
         "anchor": "x2",
         "autorange": "reversed",
         "domain": [
          0,
          1
         ],
         "title": {
          "text": "Depth Index"
         }
        }
       }
      }
     },
     "metadata": {},
     "output_type": "display_data"
    }
   ],
   "source": [
    "def visualize_reconstruction(original, masked, predicted, actual_mask, attention, scaler, feature_names=[\"qc\", \"fs\"]):\n",
    "    \"\"\"\n",
    "    Plots a comparison of original, masked, and predicted CPT profiles for key features.\n",
    "    \n",
    "    Args:\n",
    "        original (np.array): The original data (single CPT).\n",
    "        masked (np.array): The data after masking (single CPT).\n",
    "        predicted (np.array): The model's output reconstruction (single CPT).\n",
    "        actual_mask (np.array): Boolean mask showing which tokens were masked.\n",
    "        attention (np.array): Attention mask showing real vs. padding data.\n",
    "        scaler (StandardScaler): The fitted scaler object for inverse transformation.\n",
    "    \"\"\"\n",
    "    # Find the actual length of the sequence before padding\n",
    "    seq_len = int(attention.sum())\n",
    "    \n",
    "    # Trim all data to the actual sequence length\n",
    "    original = original[:seq_len]\n",
    "    predicted = predicted[:seq_len]\n",
    "    actual_mask = actual_mask[:seq_len]\n",
    "\n",
    "    # --- Inverse transform the data to its original scale for visualization ---\n",
    "    if scaler:\n",
    "        # The scaler was likely fit on only the numerical features.\n",
    "        # We assume the number of features in the scaler matches what we want to plot.\n",
    "        num_numerical_features = scaler.n_features_in_\n",
    "        \n",
    "        original_unscaled = scaler.inverse_transform(original[:, :num_numerical_features])\n",
    "        predicted_unscaled = scaler.inverse_transform(predicted[:, :num_numerical_features])\n",
    "    else:\n",
    "        # If no scaler, plot the raw (scaled) data\n",
    "        original_unscaled = original\n",
    "        predicted_unscaled = predicted\n",
    "\n",
    "    # Use the feature_map to get the correct feature names and indices\n",
    "    num_features = len(feature_names)\n",
    "    \n",
    "    fig = make_subplots(rows=1, cols=num_features, subplot_titles=[f'Feature: {name} (Unscaled)' for name in feature_names])\n",
    "    \n",
    "    depth = np.arange(seq_len)\n",
    "\n",
    "    for name in feature_names:\n",
    "        i = feature_names.index(name)  # Get the correct column index for the feature\n",
    "        # Plot Original Data\n",
    "        fig.add_trace(go.Scatter(x=original_unscaled[:, i], y=depth, mode='lines', name='Original', line=dict(color='blue')), row=1, col=i+1)\n",
    "        \n",
    "        # Plot Model's Reconstruction\n",
    "        fig.add_trace(go.Scatter(x=predicted_unscaled[:, i], y=depth, mode='lines', name='Reconstructed', line=dict(color='green')), row=1, col=i+1)\n",
    "        \n",
    "        # Highlight the ORIGINAL values at the masked locations\n",
    "        masked_indices = np.where(actual_mask)[0]\n",
    "        fig.add_trace(go.Scatter(\n",
    "            x=original_unscaled[masked_indices, i], \n",
    "            y=depth[masked_indices], \n",
    "            mode='markers', \n",
    "            name='Ground Truth (Masked)', \n",
    "            marker=dict(color='red', size=6, symbol='x')\n",
    "        ), row=1, col=i+1)\n",
    "\n",
    "    fig.update_yaxes(autorange=\"reversed\", title_text=\"Depth Index\")\n",
    "    fig.update_layout(\n",
    "        title_text='Model Reconstruction vs. Original Data (Unscaled)',\n",
    "        height=600,\n",
    "        width=900\n",
    "    )\n",
    "    fig.show()\n",
    "\n",
    "# Let's visualize the first CPT profile from the first stored batch\n",
    "if visualization_results:\n",
    "    first_batch = visualization_results[0]\n",
    "    # Get the first CPT from the batch\n",
    "    cpt_index = 0 \n",
    "    \n",
    "    original_cpt = first_batch['original'][cpt_index]\n",
    "    masked_cpt = first_batch['masked'][cpt_index]\n",
    "    predicted_cpt = first_batch['predicted'][cpt_index]\n",
    "    mask_cpt = first_batch['mask'][cpt_index]\n",
    "    attention_cpt = first_batch['attention_mask'][cpt_index]\n",
    "    \n",
    "    # Pass the loaded scaler and feature_map to the visualization function\n",
    "    visualize_reconstruction(original_cpt, masked_cpt, predicted_cpt, mask_cpt, attention_cpt, scaler, feature_names=[\"qc\", \"fs\"])\n",
    "else:\n",
    "    print(\"No results available for visualization.\")"
   ]
  },
  {
   "cell_type": "markdown",
   "id": "53739bd2",
   "metadata": {},
   "source": [
    "You can re-run the cell above and change `cpt_index` to see other examples from the first batch, or change `visualization_results[0]` to `visualization_results[1]` to inspect results from a different batch."
   ]
  }
 ],
 "metadata": {
  "kernelspec": {
   "display_name": "cpt-fm",
   "language": "python",
   "name": "python3"
  },
  "language_info": {
   "codemirror_mode": {
    "name": "ipython",
    "version": 3
   },
   "file_extension": ".py",
   "mimetype": "text/x-python",
   "name": "python",
   "nbconvert_exporter": "python",
   "pygments_lexer": "ipython3",
   "version": "3.10.18"
  }
 },
 "nbformat": 4,
 "nbformat_minor": 5
}
